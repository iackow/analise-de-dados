{
  "nbformat": 4,
  "nbformat_minor": 0,
  "metadata": {
    "colab": {
      "name": "Lista2",
      "provenance": [],
      "collapsed_sections": []
    },
    "kernelspec": {
      "name": "python3",
      "display_name": "Python 3"
    }
  },
  "cells": [
    {
      "cell_type": "code",
      "metadata": {
        "id": "oy_ZaDOQ0SQJ",
        "colab_type": "code",
        "outputId": "f5fab5c4-572f-485e-d58e-d72644cf69a3",
        "colab": {
          "base_uri": "https://localhost:8080/",
          "height": 90
        }
      },
      "source": [
        "\n",
        "trlab = float(input(\"Digite a nota do Trabalho em Laboratorio: \"))\n",
        "avsem = float(input(\"Digite a nota da Avaliação Semestral: \"))\n",
        "exafinal = float(input(\"Digite a nota do Exame Final: \"))\n",
        "media = ((trlab*2) + (avsem*3) + (exafinal*5)) / (2+3+5)\n",
        "if ((media <= 10.0) and (media >= 8.0)):\n",
        "  print(\"Conceito A\")\n",
        "elif ((media < 8.0) and (media >= 7.0)):\n",
        "  print(\"Conceito B\")\n",
        "elif ((media < 7.0) and (media >= 6.0)):\n",
        "  print(\"Conceito C\")\n",
        "elif ((media < 6.0) and (media >= 5.0)):\n",
        "  print(\"Conceito D\")\n",
        "elif ((media < 5.0) and (media >= 0.0)):\n",
        "  print(\"Conceito E\")"
      ],
      "execution_count": 0,
      "outputs": [
        {
          "output_type": "stream",
          "text": [
            "Digite a nota do Trabalho em Laboratorio: 8\n",
            "Digite a nota da Avaliação Semestral: 4\n",
            "Digite a nota do Exame Final: 5\n",
            "Conceito D\n"
          ],
          "name": "stdout"
        }
      ]
    },
    {
      "cell_type": "code",
      "metadata": {
        "id": "VRx0_GQN4X2K",
        "colab_type": "code",
        "outputId": "61b387df-e88c-464b-b94d-e15546bb7f32",
        "colab": {
          "base_uri": "https://localhost:8080/",
          "height": 90
        }
      },
      "source": [
        "nota1 = float(input(\"Digite a primeira nota do Aluno: \"))\n",
        "nota2 = float(input(\"Digite a segunda nota do Aluno: \"))\n",
        "nota3 = float(input(\"Digite a terceira nota do Aluno: \"))\n",
        "soma = (nota1+nota2+nota3)/3\n",
        "if ((media <= 10.0) and (media >= 7.0)):\n",
        "  print(\"Aprovado\")\n",
        "elif ((media < 7.0) and (media >= 3.0)):\n",
        "  print(\"Exame Especial\")\n",
        "elif ((media < 3.0) and (media >= 0.0)):\n",
        "  print(\"Reprovado\")"
      ],
      "execution_count": 0,
      "outputs": [
        {
          "output_type": "stream",
          "text": [
            "Digite a primeira nota do Aluno: 7\n",
            "Digite a segunda nota do Aluno: 7\n",
            "Digite a terceira nota do Aluno: 7\n",
            "Aprovado\n"
          ],
          "name": "stdout"
        }
      ]
    },
    {
      "cell_type": "code",
      "metadata": {
        "id": "vwLA3-SR5IXL",
        "colab_type": "code",
        "outputId": "ed0dbe3c-e1fd-4cee-dcbb-5573b67817e0",
        "colab": {
          "base_uri": "https://localhost:8080/",
          "height": 68
        }
      },
      "source": [
        "maiorvalor = -32000\n",
        "for i in range(0,2):\n",
        "    x = int(input(\"entre com o valor: \"))\n",
        "    if(x>maiorvalor):\n",
        "            maiorvalor = x\n",
        "print(\"O maior numero é: \" + str(maiorvalor))"
      ],
      "execution_count": 0,
      "outputs": [
        {
          "output_type": "stream",
          "text": [
            "entre com o valor: 2\n",
            "entre com o valor: 5\n",
            "O maior numero é: 5\n"
          ],
          "name": "stdout"
        }
      ]
    },
    {
      "cell_type": "code",
      "metadata": {
        "id": "CVNyNkwu5gz0",
        "colab_type": "code",
        "outputId": "49b1a67f-7fc0-4b10-bae1-a1ceb0bb6e61",
        "colab": {
          "base_uri": "https://localhost:8080/",
          "height": 51
        }
      },
      "source": [
        "num1 = int(input(\"Digite um numero inteiro: \"))\n",
        "resto = num1%2\n",
        "if (resto == 0):\n",
        "  print(\"Este numero é par\")\n",
        "else :\n",
        "  print(\"Este numero é impar\")\n"
      ],
      "execution_count": 0,
      "outputs": [
        {
          "output_type": "stream",
          "text": [
            "Digite um numero inteiro: 3\n",
            "Este numero é impar\n"
          ],
          "name": "stdout"
        }
      ]
    },
    {
      "cell_type": "code",
      "metadata": {
        "id": "-MrSOQkcKhQs",
        "colab_type": "code",
        "outputId": "26fb3d8a-21ef-47f0-9557-d43645bf6b34",
        "colab": {
          "base_uri": "https://localhost:8080/",
          "height": 153
        }
      },
      "source": [
        "import math\n",
        "op = int(input(\"Menu de opções:\\n\\n1. Somar dois números.\\n2. Raiz quadrada de um número.\\n\\nDigite a opção desejada:\"))\n",
        "if(op==1):\n",
        "  num1 = int(input(\"Digite o primeiro numero: \"))\n",
        "  num2 = int(input(\"Digite o segundo numero:\"))\n",
        "  print(\"A soma dos 2 numeros é: \" + str(num1+num2))\n",
        "elif(op==2):\n",
        "  num1 = int(input(\"Digite o numero: \"))\n",
        "  print(\"A raiz quadrada dos 2 numeros é: \" + str(math.sqrt(num1)))"
      ],
      "execution_count": 0,
      "outputs": [
        {
          "output_type": "stream",
          "text": [
            "Menu de opções:\n",
            "\n",
            "1. Somar dois números.\n",
            "2. Raiz quadrada de um número.\n",
            "\n",
            "Digite a opção desejada:2\n",
            "Digite o numero: 4\n",
            "A raiz quadrada dos 2 numeros é: 2.0\n"
          ],
          "name": "stdout"
        }
      ]
    },
    {
      "cell_type": "code",
      "metadata": {
        "id": "khaIbKyKMBcc",
        "colab_type": "code",
        "outputId": "32f8f0b4-7a61-4cf6-cb54-e81fd6d42488",
        "colab": {
          "base_uri": "https://localhost:8080/",
          "height": 204
        }
      },
      "source": [
        "op = int(input(\"Codigo do funcionario: \\n\\n1.Escrituario\\n2. Secretario\\n3. Caixa\\n4. Gerente\\n5. Diretor\\n\\nDigite a opção desejada: \"))\n",
        "if (op == 1):\n",
        "  salario = float(input(\"Digite o salario do funcionario: \"))\n",
        "  print(\"Escrituario: \\nSalario Atual: \"+ str(salario) + \"\\nNovo Salario: \" + str(salario+(salario*0.5)))\n",
        "elif (op == 2):\n",
        "  salario = float(input(\"Digite o salario do funcionario: \"))\n",
        "  print(\"Secretario: \\nSalario Atual: \"+ str(salario) + \"\\nNovo Salario: \" + str(salario+(salario*0.35)))\n",
        "elif (op == 3):\n",
        "  salario = float(input(\"Digite o salario do funcionario: \"))\n",
        "  print(\"Caixa: \\nSalario Atual: \"+ str(salario) + \"\\nNovo Salario: \" + str(salario+(salario*0.2)))\n",
        "elif (op == 4):\n",
        "  salario = float(input(\"Digite o salario do funcionario: \"))\n",
        "  print(\"Gerente: \\nSalario Atual: \"+ str(salario) + \"\\nNovo Salario: \" + str(salario+(salario*0.1)))\n",
        "elif (op == 5):\n",
        "  salario = float(input(\"Digite o salario do funcionario: \"))\n",
        "  print(\"Funcionario não tem aumento salarial\\nO salario do funcionario é: \" + str(salario))\n",
        "else:\n",
        "  print(\"Opção Invalida\")"
      ],
      "execution_count": 0,
      "outputs": [
        {
          "output_type": "stream",
          "text": [
            "Codigo do funcionario: \n",
            "\n",
            "1.Escrituario\n",
            "2. Secretario\n",
            "3. Caixa\n",
            "4. Gerente\n",
            "5. Diretor\n",
            "\n",
            "Digite a opção desejada: 6\n",
            "Digite o salario do funcionario: 100\n",
            "Opção Invalida\n"
          ],
          "name": "stdout"
        }
      ]
    },
    {
      "cell_type": "code",
      "metadata": {
        "id": "puSg_5mxPJax",
        "colab_type": "code",
        "outputId": "7ba2b431-0ef8-43e2-aa5e-9180bc97d614",
        "colab": {
          "base_uri": "https://localhost:8080/",
          "height": 51
        }
      },
      "source": [
        "salario = float(input(\"Digite o salario atual do funcionario:   \"))\n",
        "if(salario <= 500):\n",
        "  print(\"Novo salario do funcionario é: \" + str((salario + (salario*0.05))+150))\n",
        "elif(salario > 500.00) and (salario <= 1200.00):\n",
        "  if(salario <= 600):\n",
        "    print(\"Novo salario do funcionario é: \" + str((salario + (salario*0.12))+150))\n",
        "  else:\n",
        "    print(\"Novo salario do funcionario é: \" + str((salario + (salario*0.12))+100))\n",
        "elif (salario > 1200.00):\n",
        "  print(\"Novo salario do funcionario é: \" + str(salario + 150))\n"
      ],
      "execution_count": 0,
      "outputs": [
        {
          "output_type": "stream",
          "text": [
            "Digite o salario atual do funcionario:   1201\n",
            "Novo salario do funcionario é: 1351.0\n"
          ],
          "name": "stdout"
        }
      ]
    },
    {
      "cell_type": "code",
      "metadata": {
        "id": "jrFPausxbPap",
        "colab_type": "code",
        "outputId": "c842cbbe-f0ec-49ac-b213-9d95db2ca29e",
        "colab": {
          "base_uri": "https://localhost:8080/",
          "height": 68
        }
      },
      "source": [
        "vm = float(input(\"Digite o valor da venda mensal do produto: \"))\n",
        "precoa = float(input(\"Digite o valor do produto: \"))\n",
        "if(vm < 500.00) and (precoa <30.00):\n",
        "  print(\"O novo preço do produto é: \" + str(precoa+(precoa*0.1)))\n",
        "elif ((vm >= 500.00) and (vm < 1200.00)) and ((precoa >= 30.00) and (precoa < 80.00)):\n",
        "  print(\"O novo preço do produto é: \" + str(precoa+(precoa*0.15)))\n",
        "elif(vm >= 1200.00) and (precoa >= 80.00):\n",
        "  print(\"O novo preço do produto é: \" + str(precoa-(precoa*0.2)))"
      ],
      "execution_count": 0,
      "outputs": [
        {
          "output_type": "stream",
          "text": [
            "Digite o valor da venda mensal do produto: 400\n",
            "Digite o valor do produto: 29\n",
            "O novo preço do produto é: 31.9\n"
          ],
          "name": "stdout"
        }
      ]
    },
    {
      "cell_type": "code",
      "metadata": {
        "id": "5bdhBMSwgnGk",
        "colab_type": "code",
        "outputId": "6a3bc6ed-2b70-4e28-95cd-cf4f1d0ad502",
        "colab": {
          "base_uri": "https://localhost:8080/",
          "height": 85
        }
      },
      "source": [
        "Equação do segundo grau"
      ],
      "execution_count": 0,
      "outputs": [
        {
          "output_type": "stream",
          "text": [
            "Digite o lado A do triangulo: 6\n",
            "Digite o lado B do triangulo: 5\n",
            "Digite o lado C do triangulo: 4\n",
            "Triangulo Escaleno\n"
          ],
          "name": "stdout"
        }
      ]
    },
    {
      "cell_type": "code",
      "metadata": {
        "id": "TBAX6l_HpPSf",
        "colab_type": "code",
        "outputId": "3989b168-b67a-4cc8-dc07-e12f7db6bd54",
        "colab": {
          "base_uri": "https://localhost:8080/",
          "height": 85
        }
      },
      "source": [
        "a = float(input(\"Digite o lado A do triangulo: \"))\n",
        "b = float(input(\"Digite o lado B do triangulo: \"))\n",
        "c = float(input(\"Digite o lado C do triangulo: \"))\n",
        "if ((a< b+c)and(b< a+c)and(c< b+a))and((a> b-c)and(b> a-c)and(c> b-a)):\n",
        "  if((a == b) and (a == c) and (b == c)):\n",
        "    print(\"Triangulo Equilatero\")\n",
        "  elif((a == b) and (a == c)) or ((a == b) and (b == c)):\n",
        "    print(\"Triangulo Isosceles\")\n",
        "  elif ((a != b) and (a != c) and (b != c)):\n",
        "    print(\"Triangulo Escaleno\")\n",
        "else:\n",
        "  print(\"As medidas informadas não formam um triangulo\")"
      ],
      "execution_count": 0,
      "outputs": [
        {
          "output_type": "stream",
          "text": [
            "Digite o lado A do triangulo: 6\n",
            "Digite o lado B do triangulo: 5\n",
            "Digite o lado C do triangulo: 4\n",
            "Triangulo Escaleno\n"
          ],
          "name": "stdout"
        }
      ]
    },
    {
      "cell_type": "code",
      "metadata": {
        "id": "EiblRVWUWB9s",
        "colab_type": "code",
        "outputId": "1413ca98-20e7-4f91-ad79-9327d345ffee",
        "colab": {
          "base_uri": "https://localhost:8080/",
          "height": 68
        }
      },
      "source": [
        "altura = float(input(\"Digite a altura: \"))\n",
        "peso = float(input(\"Digite o peso: \"))\n",
        "if(altura < 1.2):\n",
        "  if(peso<=60):\n",
        "    print(\"Classificação: A\")\n",
        "  elif ((peso>60)and(peso<=90)):\n",
        "    print(\"Classificação: D\")\n",
        "  elif (peso>90):\n",
        "    print(\"Classificação: G\")\n",
        "elif((altura>1.20)and(altura<=1.70)):\n",
        "  if(peso<=60):\n",
        "    print(\"Classificação: B\")\n",
        "  elif ((peso>60)and(peso<=90)):\n",
        "    print(\"Classificação: E\")\n",
        "  elif (peso>90):\n",
        "    print(\"Classificação: H\")\n",
        "elif(altura>1.70):\n",
        "  if(peso>=60):\n",
        "    print(\"Classificação: C\")\n",
        "  elif ((peso>60)and(peso<=90)):\n",
        "    print(\"Classificação: F\")\n",
        "  elif (peso>90):\n",
        "    print(\"Classificação: I\")"
      ],
      "execution_count": 0,
      "outputs": [
        {
          "output_type": "stream",
          "text": [
            "Digite a altura: 1.32\n",
            "Digite o peso: 70\n",
            "Classificação: E\n"
          ],
          "name": "stdout"
        }
      ]
    },
    {
      "cell_type": "code",
      "metadata": {
        "id": "L8d7OIhQYY22",
        "colab_type": "code",
        "colab": {}
      },
      "source": [
        "codprod = int(input(\"Digite o codigo do produto (1 à 10): \"))\n",
        "peso = int(input(\"Digite o peso do produto em Kg: \"))\n",
        "codpais = int(input(\"Digite o codigo do pais de origem (1 à 4): \"))\n"
      ],
      "execution_count": 0,
      "outputs": []
    },
    {
      "cell_type": "code",
      "metadata": {
        "id": "mEu9SVqounRw",
        "colab_type": "code",
        "outputId": "c7416c53-f756-4cd1-97f3-552e0fd46580",
        "colab": {
          "base_uri": "https://localhost:8080/",
          "height": 238
        }
      },
      "source": [
        "import math\n",
        "print(\"Número | Quadrado | Cubo\")\n",
        "n = 10\n",
        "for (i) in range(n):\n",
        "    print(str(i+1) + \"           \" + str((i+1)**2) + \"       \" + str((i+1)**3))\n",
        "print(\"\\n\")"
      ],
      "execution_count": 0,
      "outputs": [
        {
          "output_type": "stream",
          "text": [
            "Número | Quadrado | Cubo\n",
            "1           1       1\n",
            "2           4       8\n",
            "3           9       27\n",
            "4           16       64\n",
            "5           25       125\n",
            "6           36       216\n",
            "7           49       343\n",
            "8           64       512\n",
            "9           81       729\n",
            "10           100       1000\n",
            "\n",
            "\n"
          ],
          "name": "stdout"
        }
      ]
    },
    {
      "cell_type": "code",
      "metadata": {
        "id": "bC3xKGF5Fni8",
        "colab_type": "code",
        "colab": {
          "base_uri": "https://localhost:8080/",
          "height": 293
        },
        "outputId": "bb2c2550-d67a-4e9d-9fed-3393711b36bf"
      },
      "source": [
        "\n",
        "sair = \"z\"\n",
        "contM = 0\n",
        "contF = 0\n",
        "contvi = 0\n",
        "total = 0\n",
        "while (sair != \"S\") and (sair != \"s\"):\n",
        "  sexo = input(\"Digite o Sexo da criança falecida (M / F): \")\n",
        "  vida = int(input(\"Digite o tempo de vida da criança falecida: \"))\n",
        "  sair = input(\"Deseja sair? (S/N): \")\n",
        "  if (sexo == \"M\") or (sexo == \"m\"):\n",
        "    contM = contM + 1\n",
        "  elif (sexo == \"M\") or (sexo == \"m\"):\n",
        "    contF = contF + 1\n",
        "  if vida <= 24:\n",
        "    contvi = contvi + 1\n",
        "  total = total + 1\n",
        "print(\"Porcentagem de crianças do sexo Masculino mortas: \" + str((contM/total)*100) + \"%\")\n",
        "print(\"Porcentagem de crianças do sexo Feminino mortas: \" + str((contF/total)*100) + \"%\")\n",
        "print(\"Porcentagem de crianças que viveram 24 meses ou menos: \" + str((contvi/total)*100) + \"%\")"
      ],
      "execution_count": 11,
      "outputs": [
        {
          "output_type": "stream",
          "text": [
            "Digite o Sexo da criança falecida (M / F): m\n",
            "Digite o tempo de vida da criança falecida: 23\n",
            "Deseja sair? (S/N): n\n",
            "Digite o Sexo da criança falecida (M / F): m\n",
            "Digite o tempo de vida da criança falecida: 21\n",
            "Deseja sair? (S/N): n\n",
            "Digite o Sexo da criança falecida (M / F): f\n",
            "Digite o tempo de vida da criança falecida: 25\n",
            "Deseja sair? (S/N): n\n",
            "Digite o Sexo da criança falecida (M / F): m\n",
            "Digite o tempo de vida da criança falecida: 25\n",
            "Deseja sair? (S/N): s\n",
            "Porcentagem de crianças do sexo Masculino mortas: 75.0%\n",
            "Porcentagem de crianças do sexo Feminino mortas: 0.0%\n",
            "Porcentagem de crianças que viveram 24 meses ou menos: 50.0%\n"
          ],
          "name": "stdout"
        }
      ]
    },
    {
      "cell_type": "code",
      "metadata": {
        "id": "ZFiE3yEUTBAQ",
        "colab_type": "code",
        "colab": {
          "base_uri": "https://localhost:8080/",
          "height": 421
        },
        "outputId": "30744007-6094-495c-d480-1f6245c918f3"
      },
      "source": [
        "cont = range(6)\n",
        "aprov = 0\n",
        "exame = 0\n",
        "reprov = 0\n",
        "mediacla = 0\n",
        "for i in cont:\n",
        "  nota1 = float(input(\"Digite a primeira nota do aluno\" + str(i+1) + \" :\"))\n",
        "  nota2 = float(input(\"Digite a segunda nota do aluno\" + str(i+1) + \" :\"))\n",
        "  if (nota1+nota2/2) <= 29:\n",
        "    reprov = reprov+1\n",
        "    print(\"Aluno Reprovado\")\n",
        "  elif (nota1+nota2/2) >= 30 and (nota1+nota2/2) <= 69:\n",
        "    exame = exame+1\n",
        "    print(\"Aluno em exame\")\n",
        "  elif (nota1+nota2/2) >= 70:\n",
        "    aprov = aprov+1\n",
        "    print(\"Aluno Aprovado\")\n",
        "  mediacla = nota1 + nota2 + mediacla\n",
        "print(\"Total de Alunos Aprovados: \" + str(aprov))\n",
        "print(\"Total de Alunos em Exame: \" + str(exame))\n",
        "print(\"Media de Alunos Reprovados: \" + str(reprov))\n",
        "print(\"Media da turma: \" + str(mediacla/6))"
      ],
      "execution_count": 21,
      "outputs": [
        {
          "output_type": "stream",
          "text": [
            "Digite a primeira nota do aluno1 :10\n",
            "Digite a segunda nota do aluno1 :30\n",
            "Aluno Reprovado\n",
            "Digite a primeira nota do aluno2 :31\n",
            "Digite a segunda nota do aluno2 :20\n",
            "Aluno em exame\n",
            "Digite a primeira nota do aluno3 :32\n",
            "Digite a segunda nota do aluno3 :34\n",
            "Aluno em exame\n",
            "Digite a primeira nota do aluno4 :40\n",
            "Digite a segunda nota do aluno4 :36\n",
            "Aluno em exame\n",
            "Digite a primeira nota do aluno5 :40\n",
            "Digite a segunda nota do aluno5 :50\n",
            "Aluno em exame\n",
            "Digite a primeira nota do aluno6 :80\n",
            "Digite a segunda nota do aluno6 :80\n",
            "Aluno Aprovado\n",
            "Total de Alunos Aprovados: 1\n",
            "Total de Alunos em Exame: 4\n",
            "Media de Alunos Reprovados: 1\n",
            "Media da turma: 80.5\n"
          ],
          "name": "stdout"
        }
      ]
    },
    {
      "cell_type": "code",
      "metadata": {
        "id": "IUX9eMUFYZq3",
        "colab_type": "code",
        "colab": {
          "base_uri": "https://localhost:8080/",
          "height": 90
        },
        "outputId": "4cf4713d-ea16-485e-beb6-0b1e3da55be8"
      },
      "source": [
        "dado = \"invalido\"\n",
        "while dado == \"invalido\": \n",
        "  a = float(input(\"Digite o primeiro lado do triangulo\"))\n",
        "  if a>0:\n",
        "    b = float(input(\"Digite o segundo lado do triangulo\"))\n",
        "    if b>0:\n",
        "      c = float(input(\"Digite o terceiro lado do triangulo\"))\n",
        "      if c>0:\n",
        "        if ((a< b+c)and(b< a+c)and(c< b+a))and((a> b-c)and(b> a-c)and(c> b-a)):\n",
        "          if((a == b) and (a == c) and (b == c)):\n",
        "            print(\"Triangulo Equilatero\")\n",
        "          elif((a == b) and (a == c)) or ((a == b) and (b == c)):\n",
        "            print(\"Triangulo Isosceles\")\n",
        "          elif ((a != b) and (a != c) and (b != c)):\n",
        "            print(\"Triangulo Escaleno\")\n",
        "      print(\"Dados validos porem não formam um triangulo\")\n",
        "      dado = \"valido\"\n",
        "  if dado!=\"valido\":\n",
        "    print(\"Valor Digitado Invalido\\nDigite novamente\")"
      ],
      "execution_count": 29,
      "outputs": [
        {
          "output_type": "stream",
          "text": [
            "Digite o primeiro lado do triangulo1\n",
            "Digite o segundo lado do triangulo2\n",
            "Digite o terceiro lado do triangulo3\n",
            "Dados validos porem não formam um triangulo\n"
          ],
          "name": "stdout"
        }
      ]
    },
    {
      "cell_type": "code",
      "metadata": {
        "id": "x8upo8MqcjQR",
        "colab_type": "code",
        "colab": {}
      },
      "source": [
        ""
      ],
      "execution_count": 0,
      "outputs": []
    }
  ]
}