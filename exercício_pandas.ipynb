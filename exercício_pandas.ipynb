{
  "nbformat": 4,
  "nbformat_minor": 0,
  "metadata": {
    "kernelspec": {
      "display_name": "Python 3",
      "language": "python",
      "name": "python3"
    },
    "language_info": {
      "codemirror_mode": {
        "name": "ipython",
        "version": 3
      },
      "file_extension": ".py",
      "mimetype": "text/x-python",
      "name": "python",
      "nbconvert_exporter": "python",
      "pygments_lexer": "ipython3",
      "version": "3.7.4"
    },
    "colab": {
      "name": "exercício_pandas.ipynb",
      "provenance": [],
      "collapsed_sections": []
    }
  },
  "cells": [
    {
      "cell_type": "markdown",
      "metadata": {
        "id": "a-TZ3BkBUH0h",
        "colab_type": "text"
      },
      "source": [
        "![anatel](img/anatel_logo.png \"Logo Anatel\")\n",
        "\n",
        "# Análise de Dados da Anatel em Minas Gerais (2006 - 2019)"
      ]
    },
    {
      "cell_type": "markdown",
      "metadata": {
        "id": "xZrmsTA2UH0m",
        "colab_type": "text"
      },
      "source": [
        "A Agência Nacional de Telecomunicaçõe ([Anatel](https://www.anatel.gov.br/institucional/)) foi criada em 16 de julho de 1997 com o objetivo de regular o setor de telecomunicações para contribuir com o desenvolvimento do Brasil. Neste estudo iremos explorar o conjunto de dados das **Reclamações Registradas na Anatel** no estado de Minas Gerais durante os anos de 2006 até 2019. Os dados foram baixaados do  website [Dados Abertos](http://www.dados.gov.br/dataset/solicitacoesregistradasnaanatel) e o [Dicionário de Dados Oficial](data/Reclamações_Glossário_e_Metadados.pdf) está disponível na pasta: [`data/Reclamações_Glossário_e_Metadados.pdf`](data/Reclamações_Glossário_e_Metadados.pdf)."
      ]
    },
    {
      "cell_type": "markdown",
      "metadata": {
        "id": "H5pWhqNwUH0p",
        "colab_type": "text"
      },
      "source": [
        "## Exercícios\n",
        "Faça as questões abaixo usando somente a biblioteca [pandas](https://pandas.pydata.org/)."
      ]
    },
    {
      "cell_type": "markdown",
      "metadata": {
        "id": "QirYYhiKUH0r",
        "colab_type": "text"
      },
      "source": [
        "1. Importe o pacote **pandas** como o nome pd."
      ]
    },
    {
      "cell_type": "code",
      "metadata": {
        "id": "fBr5pnWHUH0s",
        "colab_type": "code",
        "colab": {}
      },
      "source": [
        "import numpy as np\n",
        "import pandas as pd"
      ],
      "execution_count": 1,
      "outputs": []
    },
    {
      "cell_type": "markdown",
      "metadata": {
        "id": "Jb7fMCo-UH00",
        "colab_type": "text"
      },
      "source": [
        "2. Carregue em memória o conjunto de dados disponível na pasta [`data/anatel_mg_2006_2019.csv`](data/anatel_mg_2006_2019.csv) para uma variável chamada **df**."
      ]
    },
    {
      "cell_type": "code",
      "metadata": {
        "id": "dPo_61qbUH01",
        "colab_type": "code",
        "colab": {}
      },
      "source": [
        "df = pd.read_csv('anatel_mg_2006_2019.csv')"
      ],
      "execution_count": 3,
      "outputs": []
    },
    {
      "cell_type": "markdown",
      "metadata": {
        "id": "rXtgi7iIUH08",
        "colab_type": "text"
      },
      "source": [
        "3. Quantas linhas e quantas colunas foram carregadas em memória?"
      ]
    },
    {
      "cell_type": "code",
      "metadata": {
        "id": "XN_VUaYbUH09",
        "colab_type": "code",
        "colab": {
          "base_uri": "https://localhost:8080/",
          "height": 35
        },
        "outputId": "9eb69603-17c1-4ae0-b54e-af1b188af581"
      },
      "source": [
        "len(df)"
      ],
      "execution_count": 4,
      "outputs": [
        {
          "output_type": "execute_result",
          "data": {
            "text/plain": [
              "509706"
            ]
          },
          "metadata": {
            "tags": []
          },
          "execution_count": 4
        }
      ]
    },
    {
      "cell_type": "markdown",
      "metadata": {
        "id": "nJqu9X3NUH1O",
        "colab_type": "text"
      },
      "source": [
        "4. Mostre as 5 primeiras linhas do *dataset*."
      ]
    },
    {
      "cell_type": "code",
      "metadata": {
        "id": "C5YvOr7nUH1P",
        "colab_type": "code",
        "colab": {
          "base_uri": "https://localhost:8080/",
          "height": 293
        },
        "outputId": "6077a70b-86dc-47c7-9cf0-9e6f39da8f60"
      },
      "source": [
        "df.head()"
      ],
      "execution_count": 5,
      "outputs": [
        {
          "output_type": "execute_result",
          "data": {
            "text/html": [
              "<div>\n",
              "<style scoped>\n",
              "    .dataframe tbody tr th:only-of-type {\n",
              "        vertical-align: middle;\n",
              "    }\n",
              "\n",
              "    .dataframe tbody tr th {\n",
              "        vertical-align: top;\n",
              "    }\n",
              "\n",
              "    .dataframe thead th {\n",
              "        text-align: right;\n",
              "    }\n",
              "</style>\n",
              "<table border=\"1\" class=\"dataframe\">\n",
              "  <thead>\n",
              "    <tr style=\"text-align: right;\">\n",
              "      <th></th>\n",
              "      <th>DataExtracao</th>\n",
              "      <th>Ano</th>\n",
              "      <th>Mes</th>\n",
              "      <th>CanalEntrada</th>\n",
              "      <th>Condicao</th>\n",
              "      <th>GrupoEconNorm</th>\n",
              "      <th>Tipo</th>\n",
              "      <th>Servico</th>\n",
              "      <th>Modalidade</th>\n",
              "      <th>Motivo</th>\n",
              "      <th>UF</th>\n",
              "      <th>QtdeSolic</th>\n",
              "    </tr>\n",
              "  </thead>\n",
              "  <tbody>\n",
              "    <tr>\n",
              "      <th>0</th>\n",
              "      <td>2016-04-28</td>\n",
              "      <td>2006</td>\n",
              "      <td>1</td>\n",
              "      <td>Atendimento Pessoal</td>\n",
              "      <td>Nova</td>\n",
              "      <td>Anatel</td>\n",
              "      <td>Denúncia</td>\n",
              "      <td>Radiodifusão (Rádio e TV)</td>\n",
              "      <td>Rádio FM</td>\n",
              "      <td>Interferência</td>\n",
              "      <td>MG</td>\n",
              "      <td>3</td>\n",
              "    </tr>\n",
              "    <tr>\n",
              "      <th>1</th>\n",
              "      <td>2016-04-28</td>\n",
              "      <td>2006</td>\n",
              "      <td>1</td>\n",
              "      <td>Atendimento Pessoal</td>\n",
              "      <td>Nova</td>\n",
              "      <td>Anatel</td>\n",
              "      <td>Denúncia</td>\n",
              "      <td>Radiodifusão (Rádio e TV)</td>\n",
              "      <td>Rádio FM</td>\n",
              "      <td>Outorga</td>\n",
              "      <td>MG</td>\n",
              "      <td>8</td>\n",
              "    </tr>\n",
              "    <tr>\n",
              "      <th>2</th>\n",
              "      <td>2016-04-28</td>\n",
              "      <td>2006</td>\n",
              "      <td>1</td>\n",
              "      <td>Atendimento Pessoal</td>\n",
              "      <td>Nova</td>\n",
              "      <td>NET</td>\n",
              "      <td>Reclamação</td>\n",
              "      <td>Serviço Telefônico Fixo Comutado - STFC</td>\n",
              "      <td>Local</td>\n",
              "      <td>Cobrança</td>\n",
              "      <td>MG</td>\n",
              "      <td>1</td>\n",
              "    </tr>\n",
              "    <tr>\n",
              "      <th>3</th>\n",
              "      <td>2016-04-28</td>\n",
              "      <td>2006</td>\n",
              "      <td>1</td>\n",
              "      <td>Atendimento Pessoal</td>\n",
              "      <td>Nova</td>\n",
              "      <td>OI</td>\n",
              "      <td>Reclamação</td>\n",
              "      <td>Móvel Pessoal</td>\n",
              "      <td>Pós-Pago</td>\n",
              "      <td>Serviços Adicionais</td>\n",
              "      <td>MG</td>\n",
              "      <td>1</td>\n",
              "    </tr>\n",
              "    <tr>\n",
              "      <th>4</th>\n",
              "      <td>2016-04-28</td>\n",
              "      <td>2006</td>\n",
              "      <td>1</td>\n",
              "      <td>Atendimento Pessoal</td>\n",
              "      <td>Nova</td>\n",
              "      <td>Outros</td>\n",
              "      <td>Reclamação</td>\n",
              "      <td>Móvel Pessoal</td>\n",
              "      <td>Pós-Pago</td>\n",
              "      <td>Clonagem</td>\n",
              "      <td>MG</td>\n",
              "      <td>1</td>\n",
              "    </tr>\n",
              "  </tbody>\n",
              "</table>\n",
              "</div>"
            ],
            "text/plain": [
              "  DataExtracao   Ano  Mes  ...               Motivo  UF QtdeSolic\n",
              "0   2016-04-28  2006    1  ...        Interferência  MG         3\n",
              "1   2016-04-28  2006    1  ...              Outorga  MG         8\n",
              "2   2016-04-28  2006    1  ...             Cobrança  MG         1\n",
              "3   2016-04-28  2006    1  ...  Serviços Adicionais  MG         1\n",
              "4   2016-04-28  2006    1  ...             Clonagem  MG         1\n",
              "\n",
              "[5 rows x 12 columns]"
            ]
          },
          "metadata": {
            "tags": []
          },
          "execution_count": 5
        }
      ]
    },
    {
      "cell_type": "markdown",
      "metadata": {
        "id": "eoPUzN2RUH1Y",
        "colab_type": "text"
      },
      "source": [
        "5.  Quais são os tipos de dados de cada uma das colunas?"
      ]
    },
    {
      "cell_type": "code",
      "metadata": {
        "id": "niau44YUUH1a",
        "colab_type": "code",
        "colab": {
          "base_uri": "https://localhost:8080/",
          "height": 368
        },
        "outputId": "b75bcde2-13ad-4471-86d7-22b8370d4a6c"
      },
      "source": [
        "df.info()"
      ],
      "execution_count": 6,
      "outputs": [
        {
          "output_type": "stream",
          "text": [
            "<class 'pandas.core.frame.DataFrame'>\n",
            "RangeIndex: 509706 entries, 0 to 509705\n",
            "Data columns (total 12 columns):\n",
            " #   Column         Non-Null Count   Dtype \n",
            "---  ------         --------------   ----- \n",
            " 0   DataExtracao   509706 non-null  object\n",
            " 1   Ano            509706 non-null  int64 \n",
            " 2   Mes            509706 non-null  int64 \n",
            " 3   CanalEntrada   509706 non-null  object\n",
            " 4   Condicao       509706 non-null  object\n",
            " 5   GrupoEconNorm  509404 non-null  object\n",
            " 6   Tipo           509706 non-null  object\n",
            " 7   Servico        509706 non-null  object\n",
            " 8   Modalidade     509706 non-null  object\n",
            " 9   Motivo         509706 non-null  object\n",
            " 10  UF             509706 non-null  object\n",
            " 11  QtdeSolic      509706 non-null  int64 \n",
            "dtypes: int64(3), object(9)\n",
            "memory usage: 46.7+ MB\n"
          ],
          "name": "stdout"
        }
      ]
    },
    {
      "cell_type": "markdown",
      "metadata": {
        "id": "S8-jtxZ6UH1r",
        "colab_type": "text"
      },
      "source": [
        "6. Mostre a quantidade de colunas para cada um dos tipos de dados."
      ]
    },
    {
      "cell_type": "code",
      "metadata": {
        "id": "wG3zsRFtUH1x",
        "colab_type": "code",
        "colab": {
          "base_uri": "https://localhost:8080/",
          "height": 300
        },
        "outputId": "2e8ab64b-4a02-4252-860c-6c8a691b0b15"
      },
      "source": [
        "df.describe()"
      ],
      "execution_count": 7,
      "outputs": [
        {
          "output_type": "execute_result",
          "data": {
            "text/html": [
              "<div>\n",
              "<style scoped>\n",
              "    .dataframe tbody tr th:only-of-type {\n",
              "        vertical-align: middle;\n",
              "    }\n",
              "\n",
              "    .dataframe tbody tr th {\n",
              "        vertical-align: top;\n",
              "    }\n",
              "\n",
              "    .dataframe thead th {\n",
              "        text-align: right;\n",
              "    }\n",
              "</style>\n",
              "<table border=\"1\" class=\"dataframe\">\n",
              "  <thead>\n",
              "    <tr style=\"text-align: right;\">\n",
              "      <th></th>\n",
              "      <th>Ano</th>\n",
              "      <th>Mes</th>\n",
              "      <th>QtdeSolic</th>\n",
              "    </tr>\n",
              "  </thead>\n",
              "  <tbody>\n",
              "    <tr>\n",
              "      <th>count</th>\n",
              "      <td>509706.000000</td>\n",
              "      <td>509706.000000</td>\n",
              "      <td>509706.000000</td>\n",
              "    </tr>\n",
              "    <tr>\n",
              "      <th>mean</th>\n",
              "      <td>2014.852788</td>\n",
              "      <td>6.317014</td>\n",
              "      <td>8.469714</td>\n",
              "    </tr>\n",
              "    <tr>\n",
              "      <th>std</th>\n",
              "      <td>3.443596</td>\n",
              "      <td>3.395123</td>\n",
              "      <td>44.456639</td>\n",
              "    </tr>\n",
              "    <tr>\n",
              "      <th>min</th>\n",
              "      <td>2006.000000</td>\n",
              "      <td>1.000000</td>\n",
              "      <td>1.000000</td>\n",
              "    </tr>\n",
              "    <tr>\n",
              "      <th>25%</th>\n",
              "      <td>2013.000000</td>\n",
              "      <td>3.000000</td>\n",
              "      <td>1.000000</td>\n",
              "    </tr>\n",
              "    <tr>\n",
              "      <th>50%</th>\n",
              "      <td>2016.000000</td>\n",
              "      <td>6.000000</td>\n",
              "      <td>2.000000</td>\n",
              "    </tr>\n",
              "    <tr>\n",
              "      <th>75%</th>\n",
              "      <td>2017.000000</td>\n",
              "      <td>9.000000</td>\n",
              "      <td>5.000000</td>\n",
              "    </tr>\n",
              "    <tr>\n",
              "      <th>max</th>\n",
              "      <td>2019.000000</td>\n",
              "      <td>12.000000</td>\n",
              "      <td>4164.000000</td>\n",
              "    </tr>\n",
              "  </tbody>\n",
              "</table>\n",
              "</div>"
            ],
            "text/plain": [
              "                 Ano            Mes      QtdeSolic\n",
              "count  509706.000000  509706.000000  509706.000000\n",
              "mean     2014.852788       6.317014       8.469714\n",
              "std         3.443596       3.395123      44.456639\n",
              "min      2006.000000       1.000000       1.000000\n",
              "25%      2013.000000       3.000000       1.000000\n",
              "50%      2016.000000       6.000000       2.000000\n",
              "75%      2017.000000       9.000000       5.000000\n",
              "max      2019.000000      12.000000    4164.000000"
            ]
          },
          "metadata": {
            "tags": []
          },
          "execution_count": 7
        }
      ]
    },
    {
      "cell_type": "markdown",
      "metadata": {
        "id": "dw9dq03YUH17",
        "colab_type": "text"
      },
      "source": [
        "7. Mostre as informações básicas do DataFrame."
      ]
    },
    {
      "cell_type": "code",
      "metadata": {
        "id": "bJUG4gvtUH18",
        "colab_type": "code",
        "colab": {
          "base_uri": "https://localhost:8080/",
          "height": 368
        },
        "outputId": "625eedd6-7505-43e0-f7ce-b9ccd750ef6d"
      },
      "source": [
        "df.info()"
      ],
      "execution_count": 8,
      "outputs": [
        {
          "output_type": "stream",
          "text": [
            "<class 'pandas.core.frame.DataFrame'>\n",
            "RangeIndex: 509706 entries, 0 to 509705\n",
            "Data columns (total 12 columns):\n",
            " #   Column         Non-Null Count   Dtype \n",
            "---  ------         --------------   ----- \n",
            " 0   DataExtracao   509706 non-null  object\n",
            " 1   Ano            509706 non-null  int64 \n",
            " 2   Mes            509706 non-null  int64 \n",
            " 3   CanalEntrada   509706 non-null  object\n",
            " 4   Condicao       509706 non-null  object\n",
            " 5   GrupoEconNorm  509404 non-null  object\n",
            " 6   Tipo           509706 non-null  object\n",
            " 7   Servico        509706 non-null  object\n",
            " 8   Modalidade     509706 non-null  object\n",
            " 9   Motivo         509706 non-null  object\n",
            " 10  UF             509706 non-null  object\n",
            " 11  QtdeSolic      509706 non-null  int64 \n",
            "dtypes: int64(3), object(9)\n",
            "memory usage: 46.7+ MB\n"
          ],
          "name": "stdout"
        }
      ]
    },
    {
      "cell_type": "markdown",
      "metadata": {
        "id": "E74BW-WGUH2D",
        "colab_type": "text"
      },
      "source": [
        "8. Verifique se existem dados ausentes (*misssing data*) no conjunto de dados."
      ]
    },
    {
      "cell_type": "code",
      "metadata": {
        "id": "puMskOevUH2F",
        "colab_type": "code",
        "colab": {
          "base_uri": "https://localhost:8080/",
          "height": 35
        },
        "outputId": "bb170805-f2c9-406f-f64f-c59598894138"
      },
      "source": [
        "df.isnull().values.any()\n"
      ],
      "execution_count": 9,
      "outputs": [
        {
          "output_type": "execute_result",
          "data": {
            "text/plain": [
              "True"
            ]
          },
          "metadata": {
            "tags": []
          },
          "execution_count": 9
        }
      ]
    },
    {
      "cell_type": "markdown",
      "metadata": {
        "id": "aRn5sl4FUH2M",
        "colab_type": "text"
      },
      "source": [
        "9. Qual é o número total de dados ausentes?"
      ]
    },
    {
      "cell_type": "code",
      "metadata": {
        "id": "rMmbd38QUH2N",
        "colab_type": "code",
        "colab": {
          "base_uri": "https://localhost:8080/",
          "height": 35
        },
        "outputId": "44b80a45-21c1-470c-fd01-bd3271bde52d"
      },
      "source": [
        "df.isnull().sum().sum()\n"
      ],
      "execution_count": 10,
      "outputs": [
        {
          "output_type": "execute_result",
          "data": {
            "text/plain": [
              "302"
            ]
          },
          "metadata": {
            "tags": []
          },
          "execution_count": 10
        }
      ]
    },
    {
      "cell_type": "markdown",
      "metadata": {
        "id": "uksa_gBHUH2e",
        "colab_type": "text"
      },
      "source": [
        "10. Qual é o número total de dados ausentes por coluna? "
      ]
    },
    {
      "cell_type": "code",
      "metadata": {
        "id": "QnAihu5QUH2f",
        "colab_type": "code",
        "colab": {
          "base_uri": "https://localhost:8080/",
          "height": 257
        },
        "outputId": "bc8d2526-4cf7-45bc-fdd7-b58c1d7e84e7"
      },
      "source": [
        "df.isnull().sum()\n"
      ],
      "execution_count": 11,
      "outputs": [
        {
          "output_type": "execute_result",
          "data": {
            "text/plain": [
              "DataExtracao       0\n",
              "Ano                0\n",
              "Mes                0\n",
              "CanalEntrada       0\n",
              "Condicao           0\n",
              "GrupoEconNorm    302\n",
              "Tipo               0\n",
              "Servico            0\n",
              "Modalidade         0\n",
              "Motivo             0\n",
              "UF                 0\n",
              "QtdeSolic          0\n",
              "dtype: int64"
            ]
          },
          "metadata": {
            "tags": []
          },
          "execution_count": 11
        }
      ]
    },
    {
      "cell_type": "markdown",
      "metadata": {
        "id": "tDaNN6nBUH2n",
        "colab_type": "text"
      },
      "source": [
        "11. Remova todos os dados ausentes encontrados."
      ]
    },
    {
      "cell_type": "code",
      "metadata": {
        "id": "JYsfrbEwUH2o",
        "colab_type": "code",
        "colab": {}
      },
      "source": [
        "df = df.dropna(subset=['GrupoEconNorm'])"
      ],
      "execution_count": 12,
      "outputs": []
    },
    {
      "cell_type": "markdown",
      "metadata": {
        "id": "2hl1uXPSUH26",
        "colab_type": "text"
      },
      "source": [
        "12. Selecione o serviço que possui o maior número de solicitações `QtdeSolic` na Anatel."
      ]
    },
    {
      "cell_type": "code",
      "metadata": {
        "id": "0aKO8d05UH27",
        "colab_type": "code",
        "colab": {
          "base_uri": "https://localhost:8080/",
          "height": 35
        },
        "outputId": "69683267-cf08-46bf-a89e-46ac05ee1210"
      },
      "source": [
        "df['QtdeSolic'].max()"
      ],
      "execution_count": 13,
      "outputs": [
        {
          "output_type": "execute_result",
          "data": {
            "text/plain": [
              "4164"
            ]
          },
          "metadata": {
            "tags": []
          },
          "execution_count": 13
        }
      ]
    },
    {
      "cell_type": "markdown",
      "metadata": {
        "id": "_bqCUjK0UH3E",
        "colab_type": "text"
      },
      "source": [
        "13. Qual é o menor número de solicitações `QtdeSolic` na Anatel."
      ]
    },
    {
      "cell_type": "code",
      "metadata": {
        "id": "bN1Dn2ORUH3G",
        "colab_type": "code",
        "colab": {
          "base_uri": "https://localhost:8080/",
          "height": 35
        },
        "outputId": "05719ea7-101f-41e1-aa08-14e2fbe13440"
      },
      "source": [
        "menor_solic = df['QtdeSolic'].min()\n",
        "menor_solic"
      ],
      "execution_count": 14,
      "outputs": [
        {
          "output_type": "execute_result",
          "data": {
            "text/plain": [
              "1"
            ]
          },
          "metadata": {
            "tags": []
          },
          "execution_count": 14
        }
      ]
    },
    {
      "cell_type": "markdown",
      "metadata": {
        "id": "XGkNxDgSUH3R",
        "colab_type": "text"
      },
      "source": [
        "14. Mostre todas as linhs iguais ao menor número de solicitações `QtdeSolic` na Anatel."
      ]
    },
    {
      "cell_type": "code",
      "metadata": {
        "id": "5w0nH6GzUH3S",
        "colab_type": "code",
        "colab": {
          "base_uri": "https://localhost:8080/",
          "height": 35
        },
        "outputId": "477db6c5-76bd-4248-dd4e-988b21101911"
      },
      "source": [
        "\n",
        "qtd_solic = np.where(df['QtdeSolic'] == menor_solic) \n",
        "len(qtd_solic[0])"
      ],
      "execution_count": 15,
      "outputs": [
        {
          "output_type": "execute_result",
          "data": {
            "text/plain": [
              "231120"
            ]
          },
          "metadata": {
            "tags": []
          },
          "execution_count": 15
        }
      ]
    },
    {
      "cell_type": "markdown",
      "metadata": {
        "id": "4QUd_r45UH3f",
        "colab_type": "text"
      },
      "source": [
        "15. Mostre as contagens de solicitações `QtdeSolic` por tipo de serviço `Servico`."
      ]
    },
    {
      "cell_type": "code",
      "metadata": {
        "id": "pshs0blLUH3g",
        "colab_type": "code",
        "colab": {
          "base_uri": "https://localhost:8080/",
          "height": 405
        },
        "outputId": "eca11da2-b94d-4a72-cc21-73821b980032"
      },
      "source": [
        "contagem_solic = df.groupby(['Servico'])['QtdeSolic'].sum()\n",
        "\n",
        "contagem_solic"
      ],
      "execution_count": 16,
      "outputs": [
        {
          "output_type": "execute_result",
          "data": {
            "text/plain": [
              "Servico\n",
              "Banda Larga Fixa                                            348860\n",
              "Celular Pré-Pago                                            307646\n",
              "Celular Pós-Pago                                            812191\n",
              "Limitado Privado                                              1020\n",
              "Móvel Pessoal                                              1082677\n",
              "Outros                                                        2972\n",
              "Radioamador (PY)                                              2810\n",
              "Radiochamada (Paging)                                           25\n",
              "Radiodifusão (Rádio e TV)                                     6493\n",
              "Rádio do Cidadão (PX)                                         2963\n",
              "Serviço Móvel Aeronáutico                                      153\n",
              "Serviço Móvel Marítimo                                          20\n",
              "Serviço Telefônico Fixo Comutado - STFC                     532895\n",
              "Serviço de Comunicação Multimídia                           254742\n",
              "Serviço de Rede e Transporte de Telecomunicações - SRTT       2824\n",
              "Serviços da Anatel                                           46939\n",
              "TV por Assinatura                                           394184\n",
              "Telefone Fixo                                               514958\n",
              "Troncalizado (Trunking)                                       2286\n",
              "Name: QtdeSolic, dtype: int64"
            ]
          },
          "metadata": {
            "tags": []
          },
          "execution_count": 16
        }
      ]
    },
    {
      "cell_type": "markdown",
      "metadata": {
        "id": "9amQhauzUH3s",
        "colab_type": "text"
      },
      "source": [
        "16. Ao longo dos anos mostre o número de solicitações por mês?"
      ]
    },
    {
      "cell_type": "code",
      "metadata": {
        "id": "sqywKXIqUH3t",
        "colab_type": "code",
        "colab": {
          "base_uri": "https://localhost:8080/",
          "height": 257
        },
        "outputId": "80e9b081-1f39-4ad0-b7bb-9c16a3ddc033"
      },
      "source": [
        "ano = df.groupby(['Ano', 'Mes'])['QtdeSolic'].sum()\n",
        "ano"
      ],
      "execution_count": 17,
      "outputs": [
        {
          "output_type": "execute_result",
          "data": {
            "text/plain": [
              "Ano   Mes\n",
              "2006  1       6234\n",
              "      2       5120\n",
              "      3       6762\n",
              "      4       5992\n",
              "      5       6736\n",
              "             ...  \n",
              "2019  5      36382\n",
              "      6      30281\n",
              "      7      37304\n",
              "      8      34418\n",
              "      9      32626\n",
              "Name: QtdeSolic, Length: 165, dtype: int64"
            ]
          },
          "metadata": {
            "tags": []
          },
          "execution_count": 17
        }
      ]
    },
    {
      "cell_type": "markdown",
      "metadata": {
        "id": "XdWct2PIUH3y",
        "colab_type": "text"
      },
      "source": [
        "17. Crie o vetor **reclamacoes** com todos os dados que cuja coluna `Tipo` seja igual a \"Reclamação\"."
      ]
    },
    {
      "cell_type": "code",
      "metadata": {
        "id": "nhOxRPzkUH3z",
        "colab_type": "code",
        "colab": {
          "base_uri": "https://localhost:8080/",
          "height": 35
        },
        "outputId": "ddb00120-b09f-4d9b-b882-07a8f49d5a4a"
      },
      "source": [
        "reclama = np.where(df['Tipo'] == \"Reclamação\")[0]\n",
        "\n",
        "len(reclama)"
      ],
      "execution_count": 18,
      "outputs": [
        {
          "output_type": "execute_result",
          "data": {
            "text/plain": [
              "477862"
            ]
          },
          "metadata": {
            "tags": []
          },
          "execution_count": 18
        }
      ]
    },
    {
      "cell_type": "markdown",
      "metadata": {
        "id": "pTnRvuFGUH34",
        "colab_type": "text"
      },
      "source": [
        "18. Mostre o número total de solictiações `QtdeSolic` de reclamações para cada tipo de serviço `Servico`"
      ]
    },
    {
      "cell_type": "code",
      "metadata": {
        "id": "UWyLVBbUUH36",
        "colab_type": "code",
        "colab": {
          "base_uri": "https://localhost:8080/",
          "height": 405
        },
        "outputId": "bc1dc58f-cc76-45e6-ebc7-e8551256a167"
      },
      "source": [
        "total_solic = df.where(df['Tipo'] == \"Reclamação\").groupby(['Servico']).sum()\n",
        "total_solic.QtdeSolic"
      ],
      "execution_count": 19,
      "outputs": [
        {
          "output_type": "execute_result",
          "data": {
            "text/plain": [
              "Servico\n",
              "Banda Larga Fixa                                            348859.0\n",
              "Celular Pré-Pago                                            307646.0\n",
              "Celular Pós-Pago                                            812189.0\n",
              "Limitado Privado                                                83.0\n",
              "Móvel Pessoal                                              1068603.0\n",
              "Outros                                                        2230.0\n",
              "Radioamador (PY)                                               173.0\n",
              "Radiochamada (Paging)                                            1.0\n",
              "Radiodifusão (Rádio e TV)                                      203.0\n",
              "Rádio do Cidadão (PX)                                          133.0\n",
              "Serviço Móvel Aeronáutico                                        9.0\n",
              "Serviço Móvel Marítimo                                           3.0\n",
              "Serviço Telefônico Fixo Comutado - STFC                     526752.0\n",
              "Serviço de Comunicação Multimídia                           239967.0\n",
              "Serviço de Rede e Transporte de Telecomunicações - SRTT       2736.0\n",
              "Serviços da Anatel                                           24032.0\n",
              "TV por Assinatura                                           391773.0\n",
              "Telefone Fixo                                               514958.0\n",
              "Troncalizado (Trunking)                                       2229.0\n",
              "Name: QtdeSolic, dtype: float64"
            ]
          },
          "metadata": {
            "tags": []
          },
          "execution_count": 19
        }
      ]
    },
    {
      "cell_type": "markdown",
      "metadata": {
        "id": "Ei4IXfq7UH3_",
        "colab_type": "text"
      },
      "source": [
        "19. Quais são os maiores ou maior motivo de solicitação de reclamações?"
      ]
    },
    {
      "cell_type": "code",
      "metadata": {
        "id": "g8HMtCsRUH4A",
        "colab_type": "code",
        "colab": {
          "base_uri": "https://localhost:8080/",
          "height": 35
        },
        "outputId": "5104aef7-8cf9-4e98-9652-34ce6f18ffa1"
      },
      "source": [
        "maior = total_solic.QtdeSolic.max()\n",
        "maior"
      ],
      "execution_count": 21,
      "outputs": [
        {
          "output_type": "execute_result",
          "data": {
            "text/plain": [
              "1068603.0"
            ]
          },
          "metadata": {
            "tags": []
          },
          "execution_count": 21
        }
      ]
    },
    {
      "cell_type": "markdown",
      "metadata": {
        "id": "Q1kLN8YdUH4G",
        "colab_type": "text"
      },
      "source": [
        "20. Faça um agrupamento de dados pela coluna `GrupoEconNorm`, mostrando um sumário estatístico da quantidade solicitações `QtdeSolic`."
      ]
    },
    {
      "cell_type": "code",
      "metadata": {
        "id": "Aw8zFoQEUH4H",
        "colab_type": "code",
        "colab": {
          "base_uri": "https://localhost:8080/",
          "height": 442
        },
        "outputId": "b21c31cc-cfd3-418f-b173-1820344b96ec"
      },
      "source": [
        "GrupoEconNorm = df.groupby(['GrupoEconNorm']).sum()\n",
        "\n",
        "GrupoEconNorm.QtdeSolic"
      ],
      "execution_count": 22,
      "outputs": [
        {
          "output_type": "execute_result",
          "data": {
            "text/plain": [
              "GrupoEconNorm\n",
              "ALGAR                  95407\n",
              "Anatel                 57950\n",
              "BLUE                    5020\n",
              "Brisanet                   5\n",
              "CABO TELECOM               1\n",
              "CLARO                 407880\n",
              "Correios Celular         292\n",
              "Datora                     3\n",
              "EMBRATEL                2909\n",
              "GVT                    38981\n",
              "HUGHES NET               542\n",
              "Intelig                  315\n",
              "NET                   257177\n",
              "NEXTEL                  6618\n",
              "NOSSA TV - BRASIL         12\n",
              "OI                   1832855\n",
              "Outros                 96430\n",
              "SERCOMTEL                 61\n",
              "SKY                   164339\n",
              "TIM                   696485\n",
              "VIVO                  653376\n",
              "Name: QtdeSolic, dtype: int64"
            ]
          },
          "metadata": {
            "tags": []
          },
          "execution_count": 22
        }
      ]
    }
  ]
}