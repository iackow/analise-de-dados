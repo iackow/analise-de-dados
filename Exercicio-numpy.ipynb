{
  "nbformat": 4,
  "nbformat_minor": 0,
  "metadata": {
    "kernelspec": {
      "display_name": "Python 3",
      "language": "python",
      "name": "python3"
    },
    "language_info": {
      "codemirror_mode": {
        "name": "ipython",
        "version": 3
      },
      "file_extension": ".py",
      "mimetype": "text/x-python",
      "name": "python",
      "nbconvert_exporter": "python",
      "pygments_lexer": "ipython3",
      "version": "3.7.4"
    },
    "colab": {
      "name": "1_numpy.ipynb",
      "provenance": [],
      "collapsed_sections": [],
      "toc_visible": true
    }
  },
  "cells": [
    {
      "cell_type": "markdown",
      "metadata": {
        "id": "us_EAgCoijwN",
        "colab_type": "text"
      },
      "source": [
        "# Exercícios"
      ]
    },
    {
      "cell_type": "markdown",
      "metadata": {
        "id": "o_v8-GgAijwN",
        "colab_type": "text"
      },
      "source": [
        "1. Importe o pacote numpy com o nome np."
      ]
    },
    {
      "cell_type": "code",
      "metadata": {
        "id": "A1GdyHJaijwO",
        "colab_type": "code",
        "colab": {}
      },
      "source": [
        "import numpy as np"
      ],
      "execution_count": 0,
      "outputs": []
    },
    {
      "cell_type": "markdown",
      "metadata": {
        "id": "eUYiWZ-0ijwQ",
        "colab_type": "text"
      },
      "source": [
        "2. Crie o seguinte vetor unidimensional (1D):\n",
        "\n",
        "| 0 | 1 | 2 | 3 | 4 | 5 | 6 | 7 | 8 | 9 |\n",
        "|:-:|:-:|:-:|:-:|:-:|:-:|:-:|:-:|:-:|:-:|"
      ]
    },
    {
      "cell_type": "code",
      "metadata": {
        "id": "pN690l2HijwQ",
        "colab_type": "code",
        "colab": {}
      },
      "source": [
        "import numpy as np\n",
        "\n",
        "vetor = np.array([0, 1, 2, 3, 4, 5, 6, 7, 8, 9])"
      ],
      "execution_count": 0,
      "outputs": []
    },
    {
      "cell_type": "markdown",
      "metadata": {
        "id": "4ckT7LMiijwV",
        "colab_type": "text"
      },
      "source": [
        "3. Qual é o comprimento `len` do vetor?"
      ]
    },
    {
      "cell_type": "code",
      "metadata": {
        "id": "behrRwgsijwW",
        "colab_type": "code",
        "outputId": "61fe07d4-7fef-4405-cd1b-df46e60cb99b",
        "colab": {
          "base_uri": "https://localhost:8080/",
          "height": 36
        }
      },
      "source": [
        "import numpy as np\n",
        "\n",
        "vetor = np.array([0, 1, 2, 3, 4, 5, 6, 7, 8, 9])\n",
        "\n",
        "print(len(vetor));"
      ],
      "execution_count": 5,
      "outputs": [
        {
          "output_type": "stream",
          "text": [
            "10\n"
          ],
          "name": "stdout"
        }
      ]
    },
    {
      "cell_type": "markdown",
      "metadata": {
        "id": "OgO_Yqkdijwb",
        "colab_type": "text"
      },
      "source": [
        "4. Quantas dimensões `ndim` o vetor possui?"
      ]
    },
    {
      "cell_type": "code",
      "metadata": {
        "id": "3gpCAg_hijwb",
        "colab_type": "code",
        "outputId": "50c9f940-f2fe-4671-f895-2a3b14f850c3",
        "colab": {
          "base_uri": "https://localhost:8080/",
          "height": 36
        }
      },
      "source": [
        "import numpy as np\n",
        "\n",
        "vetor = np.array([0, 1, 2, 3, 4, 5, 6, 7, 8, 9])\n",
        "\n",
        "print(np.ndim(vetor));"
      ],
      "execution_count": 6,
      "outputs": [
        {
          "output_type": "stream",
          "text": [
            "1\n"
          ],
          "name": "stdout"
        }
      ]
    },
    {
      "cell_type": "markdown",
      "metadata": {
        "id": "81W2MGC-ijwd",
        "colab_type": "text"
      },
      "source": [
        "5. O que a função `shape` retorna?"
      ]
    },
    {
      "cell_type": "code",
      "metadata": {
        "id": "muJcew7Pijwe",
        "colab_type": "code",
        "outputId": "e1d1fb16-4fc3-4bfc-ad4a-93dacb75bbe0",
        "colab": {
          "base_uri": "https://localhost:8080/",
          "height": 36
        }
      },
      "source": [
        "import numpy as np\n",
        "\n",
        "vetor = np.array([0, 1, 2, 3, 4, 5, 6, 7, 8, 9])\n",
        "\n",
        "print(np.shape(vetor));"
      ],
      "execution_count": 7,
      "outputs": [
        {
          "output_type": "stream",
          "text": [
            "(10,)\n"
          ],
          "name": "stdout"
        }
      ]
    },
    {
      "cell_type": "markdown",
      "metadata": {
        "id": "HDQHR92Iijwg",
        "colab_type": "text"
      },
      "source": [
        "6. Crie a variável *pares* e extraia todos os números pares do vetor para ela:"
      ]
    },
    {
      "cell_type": "code",
      "metadata": {
        "id": "Vyc0zlxNijwh",
        "colab_type": "code",
        "outputId": "9700d365-3354-4d88-8209-b148fd25959e",
        "colab": {
          "base_uri": "https://localhost:8080/",
          "height": 36
        }
      },
      "source": [
        "import numpy as np\n",
        "\n",
        "pares = np.arange(0, 9, 2)\n",
        "\n",
        "print(pares)"
      ],
      "execution_count": 10,
      "outputs": [
        {
          "output_type": "stream",
          "text": [
            "[0 2 4 6 8]\n"
          ],
          "name": "stdout"
        }
      ]
    },
    {
      "cell_type": "markdown",
      "metadata": {
        "id": "Cr3tmy9aijwj",
        "colab_type": "text"
      },
      "source": [
        "7. Substitua todos os elementos ímpares do vetor por -1, em seguida, ordene os resultados:"
      ]
    },
    {
      "cell_type": "code",
      "metadata": {
        "id": "9bHo5B_Kijwj",
        "colab_type": "code",
        "outputId": "15e91041-4c8f-4202-f29d-09155bed3d2e",
        "colab": {
          "base_uri": "https://localhost:8080/",
          "height": 36
        }
      },
      "source": [
        "import numpy as np\n",
        "\n",
        "vetor = np.array([0, 1, 2, 3, 4, 5, 6, 7, 8, 9])\n",
        "\n",
        "print(np.where(vetor%2!=0,-1,vetor));"
      ],
      "execution_count": 11,
      "outputs": [
        {
          "output_type": "stream",
          "text": [
            "[ 0 -1  2 -1  4 -1  6 -1  8 -1]\n"
          ],
          "name": "stdout"
        }
      ]
    },
    {
      "cell_type": "markdown",
      "metadata": {
        "id": "5lZAOdMwijwl",
        "colab_type": "text"
      },
      "source": [
        "8. Converta o vetor unidimensional (1D) abaixo para uma matriz (2D) com 4 linhas. **Dica:** `reshape`."
      ]
    },
    {
      "cell_type": "code",
      "metadata": {
        "id": "kn1JKg0fijwl",
        "colab_type": "code",
        "outputId": "832615cf-1f17-4544-ee81-f1f0de6b033a",
        "colab": {
          "base_uri": "https://localhost:8080/",
          "height": 54
        }
      },
      "source": [
        "import numpy as np\n",
        "\n",
        "vetor = np.array([0, 1, 2, 3, 4, 5, 6, 7, 8, 9]);\n",
        "\n",
        "print(np.arange(8).reshape((2, 4)));\n"
      ],
      "execution_count": 12,
      "outputs": [
        {
          "output_type": "stream",
          "text": [
            "[[0 1 2 3]\n",
            " [4 5 6 7]]\n"
          ],
          "name": "stdout"
        }
      ]
    },
    {
      "cell_type": "markdown",
      "metadata": {
        "id": "S6udFWCqijwn",
        "colab_type": "text"
      },
      "source": [
        "9. Obtenha os itens em comum, ou seja, a intersecção dos vetores `a` e `b` abaixo:\n",
        "**Saída**: [2, 4, 6]\n",
        "\n"
      ]
    },
    {
      "cell_type": "code",
      "metadata": {
        "id": "htZkUjDDijwo",
        "colab_type": "code",
        "outputId": "d7f1e288-9756-4729-8e46-97ba13cdb3ca",
        "colab": {
          "base_uri": "https://localhost:8080/",
          "height": 36
        }
      },
      "source": [
        "import numpy as np\n",
        "\n",
        "a = np.array([0, 1, 2, 3, 4, 5, 6,]);\n",
        "b = np.array([8, 7, 2, 8, 4, 9, 6]);\n",
        "\n",
        "vetor = (np.where(a == b, b ,a==b));\n",
        "\n",
        "vetor = np.array([vetor[2] , vetor[4] , vetor[6]]);\n",
        "\n",
        "print(vetor)\n"
      ],
      "execution_count": 13,
      "outputs": [
        {
          "output_type": "stream",
          "text": [
            "[2 4 6]\n"
          ],
          "name": "stdout"
        }
      ]
    },
    {
      "cell_type": "markdown",
      "metadata": {
        "id": "AYMPh6iQijwq",
        "colab_type": "text"
      },
      "source": [
        "10. Retorne os valores únicos do vetor `a` que não estão no vetor `b` (diferença).\n",
        "**Saída**: [1, 3]"
      ]
    },
    {
      "cell_type": "code",
      "metadata": {
        "id": "ZV1LLnewijwr",
        "colab_type": "code",
        "outputId": "55d7b238-398d-4af7-e97a-552226017cb5",
        "colab": {
          "base_uri": "https://localhost:8080/",
          "height": 36
        }
      },
      "source": [
        "import numpy as np\n",
        "\n",
        "a = np.array([0, 1, 2, 3, 4, 5, 6,]);\n",
        "b = np.array([0, 7, 2, 8, 4, 5, 6]);\n",
        "\n",
        "vetor = (np.where(a != b, a ,a != b));\n",
        "\n",
        "vetor = np.array([vetor[1] , vetor[3]]);\n",
        "\n",
        "print(vetor)"
      ],
      "execution_count": 14,
      "outputs": [
        {
          "output_type": "stream",
          "text": [
            "[1 3]\n"
          ],
          "name": "stdout"
        }
      ]
    },
    {
      "cell_type": "markdown",
      "metadata": {
        "id": "Qn3_cv1Uijwt",
        "colab_type": "text"
      },
      "source": [
        "11. Retorne um vetor com as posições (índices) onde os elementos do vetor `a` sãos iguais aos elementos do vetor `b`. **Dica**: `where`.\n",
        "**Saída**: [2, 3, 5]"
      ]
    },
    {
      "cell_type": "code",
      "metadata": {
        "id": "Ieq-6F-mijwu",
        "colab_type": "code",
        "outputId": "4b81aa9d-62c5-4924-aa40-72daf6cc38eb",
        "colab": {
          "base_uri": "https://localhost:8080/",
          "height": 73
        }
      },
      "source": [
        "import numpy as np\n",
        "\n",
        "a = np.array([0, 1, 2, 3, 4, 5, 6,]);\n",
        "b = np.array([0, 7, 2, 8, 4, 5, 6]);\n",
        "\n",
        "vetor = (np.where(a != b, a ,a != b));\n",
        "\n",
        "vetor = np.indices([vetor[1] , vetor[3]]);\n",
        "\n",
        "print(vetor)"
      ],
      "execution_count": 15,
      "outputs": [
        {
          "output_type": "stream",
          "text": [
            "[[[0 0 0]]\n",
            "\n",
            " [[0 1 2]]]\n"
          ],
          "name": "stdout"
        }
      ]
    },
    {
      "cell_type": "markdown",
      "metadata": {
        "id": "x50Yx0Lnijww",
        "colab_type": "text"
      },
      "source": [
        "12. Obtenha todos os itens entre 5 e 15 do vetor `a = [0, 1, 2, 3, . . ., 20]`."
      ]
    },
    {
      "cell_type": "code",
      "metadata": {
        "id": "xSab8Bbfijww",
        "colab_type": "code",
        "outputId": "e8847074-a4cb-4890-9c3e-600df8783a9b",
        "colab": {
          "base_uri": "https://localhost:8080/",
          "height": 34
        }
      },
      "source": [
        "import numpy as np\n",
        "\n",
        "vetor = np.array([0, 1, 2, 3, 4, 5, 6, 7, 8, 9, 10, 11, 12, 13, 14, 15, 16, 17, 18, 19, 20])\n",
        "\n",
        "print(np.arange(4,20));"
      ],
      "execution_count": 0,
      "outputs": [
        {
          "output_type": "stream",
          "text": [
            "[ 4  5  6  7  8  9 10 11 12 13 14 15 16 17 18 19]\n"
          ],
          "name": "stdout"
        }
      ]
    },
    {
      "cell_type": "markdown",
      "metadata": {
        "id": "Ng9VcQI6ijwy",
        "colab_type": "text"
      },
      "source": [
        "13. Crie e imprima um vetor com 5 números aleatórios, sem seguida, obtenha os valores máximo e mínimo dele e mostre na tela."
      ]
    },
    {
      "cell_type": "code",
      "metadata": {
        "id": "96ButF72ijwy",
        "colab_type": "code",
        "outputId": "8f7e1d5e-e899-423c-823d-6ae71731d9cd",
        "colab": {
          "base_uri": "https://localhost:8080/",
          "height": 51
        }
      },
      "source": [
        "import numpy as np\n",
        "\n",
        "vetor = np.array([ 9, 10, 11, 12, 13]);\n",
        "\n",
        "print(np.max(vetor))\n",
        "print(np.min(vetor))"
      ],
      "execution_count": 0,
      "outputs": [
        {
          "output_type": "stream",
          "text": [
            "13\n",
            "9\n"
          ],
          "name": "stdout"
        }
      ]
    },
    {
      "cell_type": "markdown",
      "metadata": {
        "id": "f-GtsAE5ijw0",
        "colab_type": "text"
      },
      "source": [
        "14. Crie a seguinte matriz:\n",
        "\n",
        "|   |   |   |\n",
        "|:-:|:-:|:-:|\n",
        "| 7 | 8 | 9 |\n",
        "| 4 | 5 | 6 |\n",
        "| 1 | 2 | 3 |"
      ]
    },
    {
      "cell_type": "code",
      "metadata": {
        "id": "9q5bBXWBijw1",
        "colab_type": "code",
        "outputId": "9aeb459a-0faf-4a92-dd83-de71f3ec40d2",
        "colab": {
          "base_uri": "https://localhost:8080/",
          "height": 68
        }
      },
      "source": [
        "import numpy as np\n",
        "\n",
        "vetor = np.array([[ 7, 8, 9],[4,5,6],[1,2,3]])\n",
        "\n",
        "print(vetor)"
      ],
      "execution_count": 0,
      "outputs": [
        {
          "output_type": "stream",
          "text": [
            "[[7 8 9]\n",
            " [4 5 6]\n",
            " [1 2 3]]\n"
          ],
          "name": "stdout"
        }
      ]
    },
    {
      "cell_type": "markdown",
      "metadata": {
        "id": "QM-TQgEeijw4",
        "colab_type": "text"
      },
      "source": [
        "15. Troque de lugar a primeira coluna com a útllima coluna da matriz."
      ]
    },
    {
      "cell_type": "code",
      "metadata": {
        "id": "hW_NU7Vpijw4",
        "colab_type": "code",
        "outputId": "1b16f753-2455-4008-b960-0f812547ade1",
        "colab": {
          "base_uri": "https://localhost:8080/",
          "height": 68
        }
      },
      "source": [
        "import numpy as np\n",
        "\n",
        "vetor = np.array([[ 7, 8, 9],[4,5,6],[1,2,3]]);\n",
        "\n",
        "vetor = np.arange(9)\n",
        "vetor = vetor.reshape(3,3)\n",
        "\n",
        "vetor[[0, 2]] = vetor[[2, 0]]\n",
        "\n",
        "print(vetor)\n"
      ],
      "execution_count": 0,
      "outputs": [
        {
          "output_type": "stream",
          "text": [
            "[[6 7 8]\n",
            " [3 4 5]\n",
            " [0 1 2]]\n"
          ],
          "name": "stdout"
        }
      ]
    },
    {
      "cell_type": "markdown",
      "metadata": {
        "id": "h2w2mwN3ijw6",
        "colab_type": "text"
      },
      "source": [
        "16. Troque de lugar a primeira linha com a útllima linha da matriz."
      ]
    },
    {
      "cell_type": "code",
      "metadata": {
        "id": "TUt_CbPeijw7",
        "colab_type": "code",
        "outputId": "b2b87efb-31b8-46df-9f2f-bf31d691ca0b",
        "colab": {
          "base_uri": "https://localhost:8080/",
          "height": 68
        }
      },
      "source": [
        "import numpy as np\n",
        "\n",
        "vetor = np.array([[ 7, 8, 9],[4,5,6],[1,2,3]]);\n",
        "\n",
        "vetor[(0,2), :] = vetor[(2,0), :]\n",
        "\n",
        "print(vetor)"
      ],
      "execution_count": 0,
      "outputs": [
        {
          "output_type": "stream",
          "text": [
            "[[1 2 3]\n",
            " [4 5 6]\n",
            " [7 8 9]]\n"
          ],
          "name": "stdout"
        }
      ]
    },
    {
      "cell_type": "markdown",
      "metadata": {
        "id": "E71RMZXWijw9",
        "colab_type": "text"
      },
      "source": [
        "17. Crie uma matriz  7 × 5 preenchida com números decimais aleatórios entre 1 e 5."
      ]
    },
    {
      "cell_type": "code",
      "metadata": {
        "id": "ujj6hxThijw9",
        "colab_type": "code",
        "outputId": "1338fa20-bf19-408d-96c3-d484297edaa4",
        "colab": {
          "base_uri": "https://localhost:8080/",
          "height": 136
        }
      },
      "source": [
        "import numpy as np\n",
        "\n",
        "vetor = np.random.randint(1,6, size=(7, 5))\n",
        "\n",
        "print(vetor)\n"
      ],
      "execution_count": 0,
      "outputs": [
        {
          "output_type": "stream",
          "text": [
            "[[1 4 2 5 2]\n",
            " [3 1 2 1 4]\n",
            " [1 3 2 2 1]\n",
            " [2 4 3 1 1]\n",
            " [1 4 3 2 1]\n",
            " [2 5 2 1 4]\n",
            " [4 4 2 4 3]]\n"
          ],
          "name": "stdout"
        }
      ]
    },
    {
      "cell_type": "markdown",
      "metadata": {
        "id": "6IK10LgUijw_",
        "colab_type": "text"
      },
      "source": [
        "18. Qual é o comprimento `len` da matriz?"
      ]
    },
    {
      "cell_type": "code",
      "metadata": {
        "id": "jGb5zqLmijxA",
        "colab_type": "code",
        "outputId": "10dbb1e6-db01-4782-a8b1-8f441394a789",
        "colab": {
          "base_uri": "https://localhost:8080/",
          "height": 34
        }
      },
      "source": [
        "import numpy as np\n",
        "\n",
        "vetor = np.random.randint(5, size=(7, 5))\n",
        "\n",
        "print(len(vetor))"
      ],
      "execution_count": 0,
      "outputs": [
        {
          "output_type": "stream",
          "text": [
            "7\n"
          ],
          "name": "stdout"
        }
      ]
    },
    {
      "cell_type": "markdown",
      "metadata": {
        "id": "t0vgInMQijxC",
        "colab_type": "text"
      },
      "source": [
        "19. Quantas dimensões `ndim` a matriz possui?"
      ]
    },
    {
      "cell_type": "code",
      "metadata": {
        "id": "BU6sG16MijxC",
        "colab_type": "code",
        "outputId": "46e833e2-404a-4df6-8ea3-62c9b7ed671f",
        "colab": {
          "base_uri": "https://localhost:8080/",
          "height": 34
        }
      },
      "source": [
        "import numpy as np\n",
        "\n",
        "vetor = np.random.randint(5, size=(7, 5))\n",
        "\n",
        "print(np.ndim(vetor))"
      ],
      "execution_count": 0,
      "outputs": [
        {
          "output_type": "stream",
          "text": [
            "2\n"
          ],
          "name": "stdout"
        }
      ]
    },
    {
      "cell_type": "markdown",
      "metadata": {
        "id": "-yvs7b10ijxF",
        "colab_type": "text"
      },
      "source": [
        "20. O que a função `shape` retorna?"
      ]
    },
    {
      "cell_type": "code",
      "metadata": {
        "id": "ot7uBEyjijxG",
        "colab_type": "code",
        "outputId": "9b7a4eb1-5dce-465e-ef77-1f88b947a86c",
        "colab": {
          "base_uri": "https://localhost:8080/",
          "height": 34
        }
      },
      "source": [
        "vetor = np.random.randint(5, size=(7, 5))\n",
        "\n",
        "print(np.shape(vetor))"
      ],
      "execution_count": 0,
      "outputs": [
        {
          "output_type": "stream",
          "text": [
            "(7, 5)\n"
          ],
          "name": "stdout"
        }
      ]
    },
    {
      "cell_type": "markdown",
      "metadata": {
        "id": "IJdM_EBvijxI",
        "colab_type": "text"
      },
      "source": [
        "Neste exercício, iremos usar a biblioteca NumPy para fazer uma análise de dados de jogares de futebol da FIFA disponíveis em [`data/fifa.csv`](data/fifa.csv). O conjunto de dados (dataset) foi adaptado da versão original disponibilizada nas plataformas: [Kaggle](https://www.kaggle.com/karangadiya/fifa19/data) e [GitHub](https://github.com/amanthedorkknight/fifa18-all-player-statistics).\n",
        "\n",
        "## Dicionário de Dados\n",
        "\n",
        "| Coluna        | Descrição                                        |\n",
        "|:--------------|:-------------------------------------------------|\n",
        "| id            | Identificador único do jogador                   |\n",
        "| nome          | Nome do jogador                                  |\n",
        "| foto          | URL da fotografia do jogador.                    |\n",
        "| nacionalidade | País do jogador.                                 |\n",
        "| avaliacao     | Avaliação geral do jogador.                      |\n",
        "| potencial     | Indicador da classificação potencial do jogador. |\n",
        "| time          | Nome do time do jogador.                         |\n",
        "| pe_preferido  | Direito (Destro), Esquerdo (Canhoto).            |\n",
        "| reputacao     | Reputação Internacional do jogador.              |\n",
        "| altura_cm     | Altura do jogador em centímetros (cm).           |\n",
        "| peso_kg       | Peso do jogador em kilos (kg).                   |\n",
        "| posicao       | Posição do jogador no time.                      |\n",
        "| numero_camisa | Número da camisa do jogador.                     |"
      ]
    },
    {
      "cell_type": "markdown",
      "metadata": {
        "id": "lo-B4VxUijxJ",
        "colab_type": "text"
      },
      "source": [
        "1. Importe o pacote numpy com o nome np."
      ]
    },
    {
      "cell_type": "code",
      "metadata": {
        "id": "uMpdSfcuijxJ",
        "colab_type": "code",
        "colab": {}
      },
      "source": [
        "import numpy as np"
      ],
      "execution_count": 0,
      "outputs": []
    },
    {
      "cell_type": "markdown",
      "metadata": {
        "id": "xCfFHd82ijxL",
        "colab_type": "text"
      },
      "source": [
        "2. Carregue o conjunto de dados da Fifa disponível na pasta (`data/fifa.csv`), ignorando a coluna `foto`, para uma matriz em uma variavel chamada `dados`. **Dicas:**\n",
        "    - Pesquise pela função `genfromtxt`; \n",
        "    - Não esqueça de especificar a codificação (encoding) como UTF-8;\n",
        "    - Ignore o cabeçalho dos dados usando o parâmetro `skip_header=True`"
      ]
    },
    {
      "cell_type": "code",
      "metadata": {
        "id": "w7hGy8C7ijxM",
        "colab_type": "code",
        "outputId": "fba43b7e-821c-4cc1-9233-d01b6485cfc0",
        "colab": {
          "base_uri": "https://localhost:8080/",
          "height": 136
        }
      },
      "source": [
        "dados = np.genfromtxt('./sample_data/fifa.csv',\n",
        "                      delimiter=',',\n",
        "                      encoding='utf-8',\n",
        "                      dtype=object,\n",
        "                      skip_header=True,\n",
        "                      usecols=[0, 1, 2, 4, 5, 6, 7, 8, 9, 10,11,12,13])\n",
        "print(dados)\n",
        "\n"
      ],
      "execution_count": 0,
      "outputs": [
        {
          "output_type": "stream",
          "text": [
            "[[b'158023' b'L. Messi' b'31' ... b'72.121' b'RF' b'10']\n",
            " [b'20801' b'Cristiano Ronaldo' b'33' ... b'83.007' b'ST' b'7']\n",
            " [b'190871' b'Neymar Jr' b'26' ... b'68.039' b'LW' b'10']\n",
            " ...\n",
            " [b'241638' b'B. Worman' b'16' ... b'67.132' b'ST' b'33']\n",
            " [b'246268' b'D. Walker-Rice' b'17' ... b'69.853' b'RW' b'34']\n",
            " [b'246269' b'G. Nugent' b'16' ... b'79.832' b'CM' b'33']]\n"
          ],
          "name": "stdout"
        }
      ]
    },
    {
      "cell_type": "markdown",
      "metadata": {
        "id": "ctxH6s0aijxQ",
        "colab_type": "text"
      },
      "source": [
        "3. Quantas linhas foram lidas do arquivo?"
      ]
    },
    {
      "cell_type": "code",
      "metadata": {
        "id": "krEb7qKCijxR",
        "colab_type": "code",
        "outputId": "ff3f126e-ed08-48c0-d7de-8d08ad392faf",
        "colab": {
          "base_uri": "https://localhost:8080/",
          "height": 34
        }
      },
      "source": [
        "dados = np.array(dados)\n",
        "print(len(dados))"
      ],
      "execution_count": 0,
      "outputs": [
        {
          "output_type": "stream",
          "text": [
            "18207\n"
          ],
          "name": "stdout"
        }
      ]
    },
    {
      "cell_type": "markdown",
      "metadata": {
        "id": "iwNdi8AjijxT",
        "colab_type": "text"
      },
      "source": [
        "4. Quantas dimensões sua variável `dados` possui?"
      ]
    },
    {
      "cell_type": "code",
      "metadata": {
        "id": "01Ujmx4pijxT",
        "colab_type": "code",
        "outputId": "c9024081-d7d1-4a2d-9755-9e64e363976a",
        "colab": {
          "base_uri": "https://localhost:8080/",
          "height": 34
        }
      },
      "source": [
        "dados = np.array(dados)\n",
        "print(np.ndim(dados))"
      ],
      "execution_count": 0,
      "outputs": [
        {
          "output_type": "stream",
          "text": [
            "2\n"
          ],
          "name": "stdout"
        }
      ]
    },
    {
      "cell_type": "markdown",
      "metadata": {
        "id": "yf7ZvdiLijxX",
        "colab_type": "text"
      },
      "source": [
        "5. O que a função shape retorna?"
      ]
    },
    {
      "cell_type": "code",
      "metadata": {
        "id": "eCO9dD5SijxY",
        "colab_type": "code",
        "outputId": "10bebdc9-0f01-431d-a885-b4d9d6beb2b4",
        "colab": {
          "base_uri": "https://localhost:8080/",
          "height": 34
        }
      },
      "source": [
        "print(np.shape(dados))"
      ],
      "execution_count": 0,
      "outputs": [
        {
          "output_type": "stream",
          "text": [
            "(18207, 14)\n"
          ],
          "name": "stdout"
        }
      ]
    },
    {
      "cell_type": "markdown",
      "metadata": {
        "id": "B4pdkNY7ijxa",
        "colab_type": "text"
      },
      "source": [
        "6. Mostre o dado que está na 3ª linha da 4ª coluna?"
      ]
    },
    {
      "cell_type": "code",
      "metadata": {
        "id": "YkzrTT8eijxa",
        "colab_type": "code",
        "outputId": "b8766815-84e8-4f6a-fee7-ad3a27dc74b7",
        "colab": {
          "base_uri": "https://localhost:8080/",
          "height": 34
        }
      },
      "source": [
        "vetor = np.array(dados)\n",
        "print(vetor[2][3])\n"
      ],
      "execution_count": 0,
      "outputs": [
        {
          "output_type": "stream",
          "text": [
            "b'Brasil'\n"
          ],
          "name": "stdout"
        }
      ]
    },
    {
      "cell_type": "markdown",
      "metadata": {
        "id": "7KbPPJAaijxc",
        "colab_type": "text"
      },
      "source": [
        "7. Exiba os dados da primeira linha do dataset."
      ]
    },
    {
      "cell_type": "code",
      "metadata": {
        "id": "C1esWb2Iijxd",
        "colab_type": "code",
        "outputId": "a7d03ef6-135e-42cb-aee6-a918e9034513",
        "colab": {
          "base_uri": "https://localhost:8080/",
          "height": 68
        }
      },
      "source": [
        "print(vetor[1])"
      ],
      "execution_count": 0,
      "outputs": [
        {
          "output_type": "stream",
          "text": [
            "[20801 'Cristiano Ronaldo' 33\n",
            " 'https://cdn.sofifa.org/players/4/19/20801.png' 'Portugal' 94 94\n",
            " 'Juventus' 'Direito' 5.0 188.0 83.007 'ST' 7.0]\n"
          ],
          "name": "stdout"
        }
      ]
    },
    {
      "cell_type": "markdown",
      "metadata": {
        "id": "LGvzZZhXijxf",
        "colab_type": "text"
      },
      "source": [
        "8. Mostre as 5 primeiras linhas do conjunto de dados."
      ]
    },
    {
      "cell_type": "code",
      "metadata": {
        "id": "tkeH8_Fhijxf",
        "colab_type": "code",
        "outputId": "c0fd6954-a5d3-4497-925b-573497dc7a71",
        "colab": {
          "base_uri": "https://localhost:8080/",
          "height": 187
        }
      },
      "source": [
        "print(dados[0:5])"
      ],
      "execution_count": 0,
      "outputs": [
        {
          "output_type": "stream",
          "text": [
            "[[b'158023' b'L. Messi' b'31' b'Argentina' b'94' b'94' b'FC Barcelona'\n",
            "  b'Esquerdo' b'5' b'170' b'72.121' b'RF' b'10']\n",
            " [b'20801' b'Cristiano Ronaldo' b'33' b'Portugal' b'94' b'94' b'Juventus'\n",
            "  b'Direito' b'5' b'188' b'83.007' b'ST' b'7']\n",
            " [b'190871' b'Neymar Jr' b'26' b'Brasil' b'92' b'93'\n",
            "  b'Paris Saint-Germain' b'Direito' b'5' b'175' b'68.039' b'LW' b'10']\n",
            " [b'193080' b'De Gea' b'27' b'Espanha' b'91' b'93' b'Manchester United'\n",
            "  b'Direito' b'4' b'193' b'76.204' b'GK' b'1']\n",
            " [b'192985' b'K. De Bruyne' b'27' b'B\\xe9lgica' b'91' b'92'\n",
            "  b'Manchester City' b'Direito' b'4' b'155' b'69.853' b'RCM' b'7']]\n"
          ],
          "name": "stdout"
        }
      ]
    },
    {
      "cell_type": "markdown",
      "metadata": {
        "id": "E9pKy-i1ijxh",
        "colab_type": "text"
      },
      "source": [
        "9. Selecione todas as linhas da coluna `nome` (segunda coluna). **Dica:** use o operador `:`"
      ]
    },
    {
      "cell_type": "code",
      "metadata": {
        "id": "s_3yGJeUijxh",
        "colab_type": "code",
        "outputId": "34c371de-9380-4638-cacd-74a1d330be2e",
        "colab": {
          "base_uri": "https://localhost:8080/",
          "height": 136
        }
      },
      "source": [
        "nome = dados[:,[1]]\n",
        "print(nome)"
      ],
      "execution_count": 0,
      "outputs": [
        {
          "output_type": "stream",
          "text": [
            "[[b'L. Messi']\n",
            " [b'Cristiano Ronaldo']\n",
            " [b'Neymar Jr']\n",
            " ...\n",
            " [b'B. Worman']\n",
            " [b'D. Walker-Rice']\n",
            " [b'G. Nugent']]\n"
          ],
          "name": "stdout"
        }
      ]
    },
    {
      "cell_type": "markdown",
      "metadata": {
        "id": "xgiOFTzIijxi",
        "colab_type": "text"
      },
      "source": [
        "10. Inicialize um vetor de inteiros NumPy chamado: **idades**; com todas as linhas da coluna `idade` (3ª coluna)."
      ]
    },
    {
      "cell_type": "code",
      "metadata": {
        "id": "ViFnF9bqijxj",
        "colab_type": "code",
        "outputId": "f08b2c6d-ecff-4d9d-dd95-2ab4c34321bd",
        "colab": {
          "base_uri": "https://localhost:8080/",
          "height": 136
        }
      },
      "source": [
        "dados = np.array(dados);\n",
        "idades = dados[:,[2]]\n",
        "print(idades)\n",
        "\n"
      ],
      "execution_count": 0,
      "outputs": [
        {
          "output_type": "stream",
          "text": [
            "[[31]\n",
            " [33]\n",
            " [26]\n",
            " ...\n",
            " [16]\n",
            " [17]\n",
            " [16]]\n"
          ],
          "name": "stdout"
        }
      ]
    },
    {
      "cell_type": "markdown",
      "metadata": {
        "id": "dQrFaj7kijxk",
        "colab_type": "text"
      },
      "source": [
        "11. Qual é a média de idades dos jogadores?"
      ]
    },
    {
      "cell_type": "code",
      "metadata": {
        "id": "d_z-1JwOijxl",
        "colab_type": "code",
        "outputId": "875d3daf-863d-4c94-a828-6caa479033ce",
        "colab": {
          "base_uri": "https://localhost:8080/",
          "height": 34
        }
      },
      "source": [
        "print(round(np.median(idade)))"
      ],
      "execution_count": 0,
      "outputs": [
        {
          "output_type": "stream",
          "text": [
            "25\n"
          ],
          "name": "stdout"
        }
      ]
    },
    {
      "cell_type": "markdown",
      "metadata": {
        "id": "jOiI2Pdgijxn",
        "colab_type": "text"
      },
      "source": [
        "12. Qual é a maior idade do conjunto de dados?"
      ]
    },
    {
      "cell_type": "code",
      "metadata": {
        "id": "mxWp2bROijxo",
        "colab_type": "code",
        "outputId": "1d769630-c749-4fa7-a130-716ed84c8438",
        "colab": {
          "base_uri": "https://localhost:8080/",
          "height": 34
        }
      },
      "source": [
        "print(round(np.max(idade)))"
      ],
      "execution_count": 0,
      "outputs": [
        {
          "output_type": "stream",
          "text": [
            "45\n"
          ],
          "name": "stdout"
        }
      ]
    },
    {
      "cell_type": "markdown",
      "metadata": {
        "id": "OZRyNQ1tijxr",
        "colab_type": "text"
      },
      "source": [
        "13. Qual é a menor idade do conjunto de dados?"
      ]
    },
    {
      "cell_type": "code",
      "metadata": {
        "id": "glhyxLbRijxs",
        "colab_type": "code",
        "outputId": "274cdca5-f67d-4d1e-ec23-da4b1f6f7bf6",
        "colab": {
          "base_uri": "https://localhost:8080/",
          "height": 34
        }
      },
      "source": [
        "print(round(np.min(idade)))"
      ],
      "execution_count": 0,
      "outputs": [
        {
          "output_type": "stream",
          "text": [
            "16\n"
          ],
          "name": "stdout"
        }
      ]
    },
    {
      "cell_type": "markdown",
      "metadata": {
        "id": "4FSC3_f3ijxt",
        "colab_type": "text"
      },
      "source": [
        "14. Selecione todos os jogadores que possuem a maior idade deste conjunto de dados. Quantas linhas retornaram? "
      ]
    },
    {
      "cell_type": "code",
      "metadata": {
        "id": "1l2x3Clrijxt",
        "colab_type": "code",
        "outputId": "f364df5d-fec6-4ac7-aae6-146ac1f6185c",
        "colab": {
          "base_uri": "https://localhost:8080/",
          "height": 34
        }
      },
      "source": [
        "vetor = np.where(dados[:,[2]] == 45)\n",
        "\n",
        "print(len(vetor[0]))"
      ],
      "execution_count": 0,
      "outputs": [
        {
          "output_type": "stream",
          "text": [
            "1\n"
          ],
          "name": "stdout"
        }
      ]
    },
    {
      "cell_type": "markdown",
      "metadata": {
        "id": "ARHfnF3kijxv",
        "colab_type": "text"
      },
      "source": [
        "15. Selecione todos os jogadores que possuem a menor idade deste conjunto de dados. Quantas linhas retornaram? "
      ]
    },
    {
      "cell_type": "code",
      "metadata": {
        "id": "y2WZQzJGijxv",
        "colab_type": "code",
        "outputId": "a99bd415-5718-4cdb-e2a6-ae13c754f8c2",
        "colab": {
          "base_uri": "https://localhost:8080/",
          "height": 34
        }
      },
      "source": [
        "vetor = np.where(dados[:,[2]] == 16)\n",
        "\n",
        "print(len(vetor[0]))"
      ],
      "execution_count": 0,
      "outputs": [
        {
          "output_type": "stream",
          "text": [
            "42\n"
          ],
          "name": "stdout"
        }
      ]
    },
    {
      "cell_type": "markdown",
      "metadata": {
        "id": "w5QsF3Diijxy",
        "colab_type": "text"
      },
      "source": [
        "16. Selecione todos os jogadores brasileiros para uma variável chamada dados_brasil. Use `b'Brasil'` para fazer a comparação."
      ]
    },
    {
      "cell_type": "code",
      "metadata": {
        "id": "f4qS8bsUijxy",
        "colab_type": "code",
        "outputId": "17a4d2cc-279c-43a4-b63a-26e3cfe26551",
        "colab": {
          "base_uri": "https://localhost:8080/",
          "height": 1000
        }
      },
      "source": [
        "condicao = dados[:, 3] == b'Brasil'\n",
        "brasil_dados = dados[condicao,:]\n",
        "\n",
        "print(brasil_dados)"
      ],
      "execution_count": 0,
      "outputs": [
        {
          "output_type": "stream",
          "text": [
            "[[b'190871' b'Neymar Jr' b'26' b'Brasil' b'92' b'93'\n",
            "  b'Paris Saint-Germain' b'Direito' b'5' b'175' b'68.039' b'LW' b'10']\n",
            " [b'200145' b'Casemiro' b'26' b'Brasil' b'88' b'90' b'Real Madrid'\n",
            "  b'Direito' b'3' b'185' b'83.915' b'CDM' b'14']\n",
            " [b'189242' b'Coutinho' b'26' b'Brasil' b'88' b'89' b'FC Barcelona'\n",
            "  b'Direito' b'3' b'173' b'68.039' b'LW' b'7']\n",
            " [b'176676' b'Marcelo' b'30' b'Brasil' b'88' b'88' b'Real Madrid'\n",
            "  b'Esquerdo' b'4' b'175' b'79.832' b'LB' b'12']\n",
            " [b'164240' b'Thiago Silva' b'33' b'Brasil' b'88' b'88'\n",
            "  b'Paris Saint-Germain' b'Direito' b'4' b'183' b'82.100' b'RCB' b'2']\n",
            " [b'210257' b'Ederson' b'24' b'Brasil' b'86' b'90' b'Manchester City'\n",
            "  b'Esquerdo' b'2' b'188' b'86.183' b'GK' b'31']\n",
            " [b'201942' b'Roberto Firmino' b'26' b'Brasil' b'86' b'87' b'Liverpool'\n",
            "  b'Direito' b'3' b'155' b'76.204' b'CAM' b'9']\n",
            " [b'191043' b'Alex Sandro' b'27' b'Brasil' b'86' b'86' b'Juventus'\n",
            "  b'Esquerdo' b'3' b'155' b'79.832' b'LB' b'12']\n",
            " [b'190483' b'Douglas Costa' b'27' b'Brasil' b'86' b'86' b'Juventus'\n",
            "  b'Esquerdo' b'3' b'173' b'69.853' b'LM' b'11']\n",
            " [b'135507' b'Fernandinho' b'33' b'Brasil' b'86' b'86' b'Manchester City'\n",
            "  b'Direito' b'3' b'152' b'67.132' b'CDM' b'25']\n",
            " [b'212831' b'Alisson' b'25' b'Brasil' b'85' b'90' b'Liverpool'\n",
            "  b'Direito' b'3' b'191' b'91.172' b'GK' b'13']\n",
            " [b'187961' b'Paulinho' b'29' b'Brasil' b'85' b'85'\n",
            "  b'Guangzhou Evergrande Taobao FC' b'Direito' b'3' b'183' b'71.214'\n",
            "  b'LDM' b'9']\n",
            " [b'171919' b'Naldo' b'35' b'Brasil' b'85' b'85' b'FC Schalke 04'\n",
            "  b'Direito' b'3' b'198' b'91.172' b'CB' b'29']\n",
            " [b'168609' b'Miranda' b'33' b'Brasil' b'85' b'85' b'Inter' b'Direito'\n",
            "  b'3' b'185' b'78.018' b'CB' b'23']\n",
            " [b'164169' b'Filipe Lu\\xeds' b'32' b'Brasil' b'85' b'85'\n",
            "  b'Atl\\xe9tico Madrid' b'Esquerdo' b'3' b'183' b'73.936' b'LB' b'3']\n",
            " [b'212462' b'Alex Telles' b'25' b'Brasil' b'84' b'87' b'FC Porto'\n",
            "  b'Esquerdo' b'3' b'155' b'71.214' b'LB' b'13']\n",
            " [b'209499' b'Fabinho' b'24' b'Brasil' b'84' b'88' b'Liverpool'\n",
            "  b'Direito' b'3' b'188' b'78.018' b'CDM' b'3']\n",
            " [b'207865' b'Marquinhos' b'24' b'Brasil' b'84' b'89'\n",
            "  b'Paris Saint-Germain' b'Direito' b'3' b'183' b'74.843' b'LDM' b'5']\n",
            " [b'180403' b'Willian' b'29' b'Brasil' b'84' b'84' b'Chelsea' b'Direito'\n",
            "  b'3' b'175' b'78.018' b'RW' b'22']\n",
            " [b'176769' b'Jonas' b'34' b'Brasil' b'84' b'84' b'SL Benfica' b'Direito'\n",
            "  b'3' b'155' b'73.936' b'ST' b'10']\n",
            " [b'230666' b'Gabriel Jesus' b'21' b'Brasil' b'83' b'92'\n",
            "  b'Manchester City' b'Direito' b'2' b'175' b'73.028' b'ST' b'33']\n",
            " [b'230481' b'Ronaldo Cabrais' b'26' b'Brasil' b'83' b'83' b'Gr\\xeamio'\n",
            "  b'Direito' b'1' b'152' b'74.843' b'RW' b'7']\n",
            " [b'230375' b'Josu\\xe9 Chiamulera' b'26' b'Brasil' b'83' b'83'\n",
            "  b'Gr\\xeamio' b'Direito' b'1' b'185' b'79.832' b'LCB' b'4']\n",
            " [b'230294' b'Louri Beretta' b'26' b'Brasil' b'83' b'83'\n",
            "  b'Atl\\xe9tico Mineiro' b'Direito' b'1' b'188' b'83.007' b'ST' b'9']\n",
            " [b'212523' b'Anderson Talisca' b'24' b'Brasil' b'83' b'90'\n",
            "  b'Guangzhou Evergrande Taobao FC' b'Esquerdo' b'2' b'191' b'79.832'\n",
            "  b'CAM' b'24']\n",
            " [b'207863' b'Felipe' b'29' b'Brasil' b'83' b'83' b'FC Porto' b'Direito'\n",
            "  b'3' b'191' b'86.183' b'RCB' b'28']\n",
            " [b'201995' b'Felipe Anderson' b'25' b'Brasil' b'83' b'85'\n",
            "  b'West Ham United' b'Direito' b'3' b'175' b'69.853' b'LM' b'8']\n",
            " [b'200949' b'Lucas Moura' b'25' b'Brasil' b'83' b'84'\n",
            "  b'Tottenham Hotspur' b'Direito' b'3' b'175' b'69.853' b'RM' b'27']\n",
            " [b'199914' b'Allan' b'27' b'Brasil' b'83' b'83' b'Napoli' b'Direito'\n",
            "  b'2' b'175' b'73.936' b'RCM' b'5']\n",
            " [b'194404' b'Neto' b'28' b'Brasil' b'83' b'84' b'Valencia CF' b'Direito'\n",
            "  b'2' b'191' b'83.915' b'GK' b'13']\n",
            " [b'188152' b'Oscar' b'26' b'Brasil' b'83' b'84' b'Shanghai SIPG FC'\n",
            "  b'Direito' b'3' b'152' b'66.224' b'LCM' b'8']\n",
            " [b'185221' b'Luiz Gustavo' b'30' b'Brasil' b'83' b'83'\n",
            "  b'Olympique de Marseille' b'Esquerdo' b'3' b'188' b'78.018' b'LCB'\n",
            "  b'19']\n",
            " [b'184942' b'Giuliano' b'28' b'Brasil' b'83' b'83' b'Al Nassr'\n",
            "  b'Direito' b'2' b'173' b'68.039' b'CAM' b'77']\n",
            " [b'179944' b'David Luiz' b'31' b'Brasil' b'83' b'83' b'Chelsea'\n",
            "  b'Direito' b'4' b'188' b'86.183' b'LCB' b'30']\n",
            " [b'176266' b'Lucas Leiva' b'31' b'Brasil' b'83' b'83' b'Lazio'\n",
            "  b'Direito' b'3' b'152' b'78.018' b'LDM' b'6']\n",
            " [b'230658' b'Arthur' b'21' b'Brasil' b'82' b'90' b'FC Barcelona'\n",
            "  b'Direito' b'1' b'170' b'73.028' b'LCM' b'8']\n",
            " [b'230258' b'Rosberto Dourado' b'30' b'Brasil' b'82' b'82'\n",
            "  b'Atl\\xe9tico Mineiro' b'Direito' b'1' b'175' b'69.853' b'RCM' b'13']\n",
            " [b'230225' b'Juiano Mestres' b'34' b'Brasil' b'82' b'82' b'Cruzeiro'\n",
            "  b'Direito' b'1' b'155' b'82.100' b'RCB' b'3']\n",
            " [b'230168' b'Raphaelito Anjos' b'30' b'Brasil' b'82' b'82' b'Gr\\xeamio'\n",
            "  b'Direito' b'1' b'191' b'84.822' b'GK' b'1']\n",
            " [b'222737' b'Malcom' b'21' b'Brasil' b'82' b'89' b'FC Barcelona'\n",
            "  b'Esquerdo' b'2' b'173' b'73.936' b'RW' b'14']\n",
            " [b'209297' b'Fred' b'25' b'Brasil' b'82' b'84' b'Manchester United'\n",
            "  b'Esquerdo' b'1' b'170' b'63.957' b'CM' b'17']\n",
            " [b'201400' b'Rafinha' b'25' b'Brasil' b'82' b'87' b'FC Barcelona'\n",
            "  b'Esquerdo' b'2' b'175' b'71.214' b'CAM' b'12']\n",
            " [b'201305' b'Gabriel Paulista' b'27' b'Brasil' b'82' b'83'\n",
            "  b'Valencia CF' b'Direito' b'2' b'188' b'78.925' b'LCB' b'5']\n",
            " [b'195093' b'Willian Jos\\xe9' b'26' b'Brasil' b'82' b'83'\n",
            "  b'Real Sociedad' b'Direito' b'2' b'188' b'92.986' b'ST' b'12']\n",
            " [b'188803' b'Taison' b'30' b'Brasil' b'82' b'82' b'Shakhtar Donetsk'\n",
            "  b'Direito' b'2' b'173' b'63.957' b'LM' b'7']\n",
            " [b'168530' b'Jardel' b'32' b'Brasil' b'82' b'82' b'SL Benfica'\n",
            "  b'Direito' b'2' b'193' b'87.090' b'LCB' b'33']\n",
            " [b'146530' b'Dani Alves' b'35' b'Brasil' b'82' b'82'\n",
            "  b'Paris Saint-Germain' b'Direito' b'4' b'173' b'68.039' b'RB' b'13']\n",
            " [b'230271' b'Laure Santeiro' b'30' b'Brasil' b'81' b'81' b'Fluminense'\n",
            "  b'Esquerdo' b'1' b'170' b'63.049' b'CAM' b'8']\n",
            " [b'189362' b'Hulk' b'31' b'Brasil' b'81' b'81' b'Shanghai SIPG FC'\n",
            "  b'Esquerdo' b'4' b'155' b'84.822' b'RCM' b'10']\n",
            " [b'169195' b'Renato Augusto' b'30' b'Brasil' b'81' b'81'\n",
            "  b'Beijing Sinobo Guoan FC' b'Direito' b'2' b'185' b'86.183' b'LCM' b'5']\n",
            " [b'144622' b'Raffael' b'33' b'Brasil' b'81' b'81'\n",
            "  b'Borussia M\\xf6nchengladbach' b'Direito' b'2' b'175' b'68.946' b'CF'\n",
            "  b'11']\n",
            " [b'230347' b'Welington Dano' b'30' b'Brasil' b'80' b'80' b'Cruzeiro'\n",
            "  b'Esquerdo' b'1' b'152' b'68.946' b'LB' b'5']\n",
            " [b'230234' b'Everton Andr\\xe3o' b'34' b'Brasil' b'80' b'80'\n",
            "  b'Fluminense' b'Direito' b'1' b'152' b'74.843' b'CDM' b'6']\n",
            " [b'221540' b'Ra\\xfal' b'28' b'Brasil' b'80' b'80' b'SC Braga'\n",
            "  b'Esquerdo' b'1' b'188' b'81.193' b'CB' b'34']\n",
            " [b'205525' b'Bernard' b'25' b'Brasil' b'80' b'81' b'Everton' b'Direito'\n",
            "  b'2' b'165' b'59.874' b'LM' b'20']\n",
            " [b'201119' b'Ismaily' b'28' b'Brasil' b'80' b'80' b'Shakhtar Donetsk'\n",
            "  b'Esquerdo' b'1' b'152' b'82.100' b'LB' b'31']\n",
            " [b'191687' b'Maicon' b'29' b'Brasil' b'80' b'80' b'Galatasaray SK'\n",
            "  b'Direito' b'2' b'191' b'88.904' b'CB' b'3']\n",
            " [b'180334' b'Marcelo' b'31' b'Brasil' b'80' b'80' b'Olympique Lyonnais'\n",
            "  b'Direito' b'2' b'191' b'84.822' b'RCB' b'6']\n",
            " [b'180175' b'Alexandre Pato' b'28' b'Brasil' b'80' b'80'\n",
            "  b'Tianjin Quanjian FC' b'Direito' b'3' b'155' b'81.193' b'ST' b'10']\n",
            " [b'158625' b'Dante' b'34' b'Brasil' b'80' b'80' b'OGC Nice' b'Esquerdo'\n",
            "  b'3' b'188' b'84.822' b'CB' b'31']\n",
            " [b'236632' b'David Neres' b'21' b'Brasil' b'79' b'86' b'Ajax'\n",
            "  b'Esquerdo' b'2' b'175' b'66.224' b'RW' b'7']\n",
            " [b'233419' b'Raphinha' b'21' b'Brasil' b'79' b'86' b'Sporting CP'\n",
            "  b'Esquerdo' b'1' b'175' b'68.039' b'RM' b'21']\n",
            " [b'231943' b'Richarlison' b'21' b'Brasil' b'79' b'86' b'Everton'\n",
            "  b'Direito' b'1' b'155' b'69.853' b'ST' b'30']\n",
            " [b'230498' b'Luimo Boas Santos' b'30' b'Brasil' b'79' b'79' b'Santos'\n",
            "  b'Direito' b'1' b'175' b'73.028' b'ST' b'11']\n",
            " [b'230312' b'Gabri Prest\\xe3o' b'26' b'Brasil' b'79' b'79'\n",
            "  b'Internacional' b'Direito' b'1' b'185' b'79.832' b'GK' b'12']\n",
            " [b'230251' b'Melvin Parrela' b'30' b'Brasil' b'79' b'79'\n",
            "  b'Am\\xe9rica FC (Minas Gerais)' b'Direito' b'1' b'188' b'87.997' b'LCM'\n",
            "  b'14']\n",
            " [b'230212' b'Ant\\xf4nio Chiamuloira' b'30' b'Brasil' b'79' b'79'\n",
            "  b'Internacional' b'Esquerdo' b'1' b'183' b'78.925' b'CB' b'15']\n",
            " [b'230201' b'Maikel Catarino' b'34' b'Brasil' b'79' b'79'\n",
            "  b'Atl\\xe9tico Mineiro' b'Direito' b'1' b'152' b'74.843' b'RB' b'2']\n",
            " [b'210411' b'Ot\\xe1vio' b'23' b'Brasil' b'79' b'85' b'FC Porto'\n",
            "  b'Direito' b'1' b'173' b'71.214' b'RM' b'25']]\n"
          ],
          "name": "stdout"
        }
      ]
    },
    {
      "cell_type": "markdown",
      "metadata": {
        "id": "rGJjH96gijx0",
        "colab_type": "text"
      },
      "source": [
        "17. Quantos são os jogadores brasileiros?"
      ]
    },
    {
      "cell_type": "code",
      "metadata": {
        "id": "Ed0vNP5mijx0",
        "colab_type": "code",
        "outputId": "9f531c10-5c1c-477e-ad09-486dfac97636",
        "colab": {
          "base_uri": "https://localhost:8080/",
          "height": 34
        }
      },
      "source": [
        "vetor = np.where(dados[:,[4]] == 'Brasil')\n",
        "\n",
        "print(len(vetor[0]))"
      ],
      "execution_count": 0,
      "outputs": [
        {
          "output_type": "stream",
          "text": [
            "69\n"
          ],
          "name": "stdout"
        }
      ]
    },
    {
      "cell_type": "markdown",
      "metadata": {
        "id": "PsBeKr4Nijx2",
        "colab_type": "text"
      },
      "source": [
        "18. Para as colunas `idade`, `altura` e `peso`, calcule:\n",
        "    - Média\n",
        "    - Mediana\n",
        "    - Máximo\n",
        "    - Mínimo"
      ]
    },
    {
      "cell_type": "code",
      "metadata": {
        "id": "V8bpRuWHijx2",
        "colab_type": "code",
        "outputId": "70717ec8-9533-4cf1-a141-e31b79b25a83",
        "colab": {
          "base_uri": "https://localhost:8080/",
          "height": 255
        }
      },
      "source": [
        "idade_vazio = dados[:,2] != b''\n",
        "idade = dados[idade_vazio,2].astype(int)\n",
        "\n",
        "print (\"Media idade:\" , + (idade.mean()))\n",
        "print (\"Mediana idades:\", + (np.median(idade)))\n",
        "print(\"Maximo idades:\", + (idade.max()))\n",
        "print(\"Minimo idades:\", + (idade.min()))\n",
        "\n",
        "print('-----------------------------------------------')\n",
        "\n",
        "altura_vazio = dados[:,9] !=b''\n",
        "altura = dados[altura_vazio,9].astype(int)\n",
        "\n",
        "print (\"Media altura:\" , + (altura.mean()))\n",
        "print (\"Mediana altura:\", + (np.median(altura)))\n",
        "print(\"Maximo altura:\", + (altura.max()))\n",
        "print(\"Minimo altura:\", + (altura.min()))\n",
        "\n",
        "print('-----------------------------------------------')\n",
        "\n",
        "peso_vazio = dados[:,10] != b''\n",
        "peso = dados[peso_vazio,10].astype(float)\n",
        "\n",
        "print (\"Media peso:\" , + (peso.mean()))\n",
        "print (\"Mediana peso:\", + (np.median(peso)))\n",
        "print(\"Maximo peso:\", + (peso.max()))\n",
        "print(\"Minimo peso:\", + (peso.min()))"
      ],
      "execution_count": 0,
      "outputs": [
        {
          "output_type": "stream",
          "text": [
            "Media idade: 25.122205745043114\n",
            "Mediana idades: 25.0\n",
            "Maximo idades: 45\n",
            "Minimo idades: 16\n",
            "-----------------------------------------------\n",
            "Media altura: 174.7126493749656\n",
            "Mediana altura: 175.0\n",
            "Maximo altura: 206\n",
            "Minimo altura: 152\n",
            "-----------------------------------------------\n",
            "Media peso: 75.28690153642822\n",
            "Mediana peso: 74.843\n",
            "Maximo peso: 110.223\n",
            "Minimo peso: 49.895\n"
          ],
          "name": "stdout"
        }
      ]
    },
    {
      "cell_type": "markdown",
      "metadata": {
        "id": "xm-qoerWijx5",
        "colab_type": "text"
      },
      "source": [
        "19. Calcule o desvio padrão da `reputação` dos jogadores brasileiros"
      ]
    },
    {
      "cell_type": "code",
      "metadata": {
        "id": "OxZV3jEnijx5",
        "colab_type": "code",
        "outputId": "7e20a2b3-7814-4a9f-98d5-52e4ff729221",
        "colab": {
          "base_uri": "https://localhost:8080/",
          "height": 34
        }
      },
      "source": [
        "reputacao_vazio = dados[:,8] != b''\n",
        "reputacao = dados[reputacao_vazio,8].astype(int)\n",
        "\n",
        "np.std(reputacao)"
      ],
      "execution_count": 0,
      "outputs": [
        {
          "output_type": "execute_result",
          "data": {
            "text/plain": [
              "0.394019906232981"
            ]
          },
          "metadata": {
            "tags": []
          },
          "execution_count": 18
        }
      ]
    },
    {
      "cell_type": "markdown",
      "metadata": {
        "id": "O2NdJwiSijx7",
        "colab_type": "text"
      },
      "source": [
        "20. Qual jogador brasileiro tem menor pontencial?"
      ]
    },
    {
      "cell_type": "code",
      "metadata": {
        "id": "cOARnYX9ijx7",
        "colab_type": "code",
        "outputId": "f4c28bda-eb37-4e6d-88c8-5fcb2ca8fec1",
        "colab": {
          "base_uri": "https://localhost:8080/",
          "height": 34
        }
      },
      "source": [
        "condicao = dados[:, 3] == b'Brasil'\n",
        "brasil_dados = dados[condicao,:]\n",
        "\n",
        "potencial = brasil_dados[:,5]\n",
        "\n",
        "potencial.min()\n"
      ],
      "execution_count": 0,
      "outputs": [
        {
          "output_type": "execute_result",
          "data": {
            "text/plain": [
              "b'79'"
            ]
          },
          "metadata": {
            "tags": []
          },
          "execution_count": 17
        }
      ]
    }
  ]
}