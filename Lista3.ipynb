{
  "nbformat": 4,
  "nbformat_minor": 0,
  "metadata": {
    "colab": {
      "name": "Untitled1.ipynb",
      "provenance": [],
      "collapsed_sections": []
    },
    "kernelspec": {
      "name": "python3",
      "display_name": "Python 3"
    }
  },
  "cells": [
    {
      "cell_type": "markdown",
      "metadata": {
        "id": "tH0kyiSe7G7s",
        "colab_type": "text"
      },
      "source": [
        "01.\tFaça um programa contendo o método verifica(numero) que retorne 1 se o número digitado for positivo ou 0 se for negativo."
      ]
    },
    {
      "cell_type": "code",
      "metadata": {
        "id": "cGiIkR_pXXHZ",
        "colab_type": "code",
        "colab": {
          "base_uri": "https://localhost:8080/",
          "height": 36
        },
        "outputId": "0a64b5a2-6c48-4d00-9ed6-56e41a27daa6"
      },
      "source": [
        "def Verifica(numero):\n",
        "  resultado = 3\n",
        "  if numero < 0:\n",
        "    resultado = 0\n",
        "  else:\n",
        "      resultado = 1\n",
        "  return resultado\n",
        "\n",
        "print(Verifica(-12))"
      ],
      "execution_count": 110,
      "outputs": [
        {
          "output_type": "stream",
          "text": [
            "0\n"
          ],
          "name": "stdout"
        }
      ]
    },
    {
      "cell_type": "markdown",
      "metadata": {
        "id": "U1LPeiwg7Pdj",
        "colab_type": "text"
      },
      "source": [
        "02.\tFaça um programa contendo o método somar(inicio, fim) que receba dois números inteiros positivos como parâmetro e retorne a soma dos N números inteiros existentes entre eles. Ou seja, os parâmetros são exclusives, ou seja, os valores de início e fim não aparecerão no resultado."
      ]
    },
    {
      "cell_type": "code",
      "metadata": {
        "id": "Zxh5XQHI7TZ7",
        "colab_type": "code",
        "colab": {
          "base_uri": "https://localhost:8080/",
          "height": 36
        },
        "outputId": "c2aa63b6-147e-47e7-a157-d350a13579d1"
      },
      "source": [
        "def somar(inicio, fim):\n",
        "  soma = 0\n",
        "  for i in range((inicio + 1), fim):\n",
        "    soma += i\n",
        "  return soma\n",
        "\n",
        "print(somar(1, 4))"
      ],
      "execution_count": 111,
      "outputs": [
        {
          "output_type": "stream",
          "text": [
            "5\n"
          ],
          "name": "stdout"
        }
      ]
    },
    {
      "cell_type": "markdown",
      "metadata": {
        "id": "6BLFy3em7f6U",
        "colab_type": "text"
      },
      "source": [
        "03.\tFaça um programa contendo o método divisores(a, b, c) que receba três números inteiros a, b e c, sendo a maior que 1. A função deverá somar todos os inteiros entre b e c que sejam divisíveis por a (inclusive b e c) e retornar o resultado da soma para ser impresso."
      ]
    },
    {
      "cell_type": "code",
      "metadata": {
        "id": "wTo64oJc7iDH",
        "colab_type": "code",
        "colab": {
          "base_uri": "https://localhost:8080/",
          "height": 36
        },
        "outputId": "6239dcd2-62df-47e9-bb05-dca97d7821d8"
      },
      "source": [
        "def divisores(a, b, c):\n",
        "  soma = 0\n",
        "  if a > 1:\n",
        "    for i in range(b, (c + 1)):\n",
        "      resto = i % a\n",
        "      if resto == 0:\n",
        "        soma = soma + i\n",
        "  return soma\n",
        "print(divisores(2, 4, 2))\n"
      ],
      "execution_count": 115,
      "outputs": [
        {
          "output_type": "stream",
          "text": [
            "0\n"
          ],
          "name": "stdout"
        }
      ]
    },
    {
      "cell_type": "markdown",
      "metadata": {
        "id": "u_lxxjWN8Msk",
        "colab_type": "text"
      },
      "source": [
        "04.\tFaça um método converte_horario(segundos) que receba um único valor representando segundos e converta esse valor para horas, minutos e segundos; seguindo o formato 00:00:00."
      ]
    },
    {
      "cell_type": "code",
      "metadata": {
        "id": "Ej4-DI398Qzj",
        "colab_type": "code",
        "colab": {
          "base_uri": "https://localhost:8080/",
          "height": 36
        },
        "outputId": "6c9e4b83-162b-4962-bab6-3d8db19ad5a7"
      },
      "source": [
        "def converte_horario(segundos):\n",
        "  hora = segundos // 3600\n",
        "  resto = segundos % 3600\n",
        "  minuto = resto // 60\n",
        "  segundo = resto % 60\n",
        "  return (\"{:}:{:}:{:}\".format(hora, minuto, segundo))\n",
        "print(converte_horario(3564654))"
      ],
      "execution_count": 125,
      "outputs": [
        {
          "output_type": "stream",
          "text": [
            "990:10:54\n"
          ],
          "name": "stdout"
        }
      ]
    },
    {
      "cell_type": "markdown",
      "metadata": {
        "id": "8GXNKwpa-oRr",
        "colab_type": "text"
      },
      "source": [
        "05.\tCrie o método calcula_reajuste(preco_antigo, preco_atual) que receba os valores antigo e atual de um produto e determine o percentual de acréscimo entre esses valores."
      ]
    },
    {
      "cell_type": "code",
      "metadata": {
        "id": "MUCYmsyOYTdX",
        "colab_type": "code",
        "colab": {
          "base_uri": "https://localhost:8080/",
          "height": 36
        },
        "outputId": "b40e5432-229f-46c4-988c-a38ff9c6c44d"
      },
      "source": [
        "def calcula_reajuste(preco_antigo, preco_atual):\n",
        "    percentual = ((preco_atual - preco_antigo)/preco_antigo)*100\n",
        "    return percentual\n",
        "print(calcula_reajuste(100, 110))"
      ],
      "execution_count": 13,
      "outputs": [
        {
          "output_type": "stream",
          "text": [
            "10.0\n"
          ],
          "name": "stdout"
        }
      ]
    },
    {
      "cell_type": "markdown",
      "metadata": {
        "id": "NPxPVyBd-wCg",
        "colab_type": "text"
      },
      "source": [
        "06.\tCrie o método imprime_multiplicacao(n) que receba como parâmetro um número inteiro no intervalo de 1 a 9 (inclusive) e mostre a seguinte tabela de multiplicação (no exemplo, n = 9):\n",
        "1\n",
        "2 4 \n",
        "3 6 9 \n",
        "4 8 12 16 \n",
        "5 10 15 20 25 \n",
        "6 12 18 24 30 36 \n",
        "7 14 21 28 35 42 49 \n",
        "8 16 24 32 40 48 56 64 \n",
        "9 18 27 36 45 54 63 72 81\n"
      ]
    },
    {
      "cell_type": "code",
      "metadata": {
        "id": "ojfFmwl4-xAI",
        "colab_type": "code",
        "colab": {
          "base_uri": "https://localhost:8080/",
          "height": 73
        },
        "outputId": "0b57767f-b3d8-4d18-f1da-bb7773337117"
      },
      "source": [
        "def imprime_multiplicacao(n):\n",
        "  for i in range(1, (n + 1)):\n",
        "    for j in range(i):\n",
        "      print((i) * (j + 1))\n",
        "imprime_multiplicacao(2)"
      ],
      "execution_count": 131,
      "outputs": [
        {
          "output_type": "stream",
          "text": [
            "1\n",
            "2\n",
            "4\n"
          ],
          "name": "stdout"
        }
      ]
    },
    {
      "cell_type": "markdown",
      "metadata": {
        "id": "lFcOjELn_zNR",
        "colab_type": "text"
      },
      "source": [
        "07.\tcrie o método media_alunos(nota1, nota2, nota3, tipo) que receba as três notas de um aluno como parâmetros e um número inteiro indicando o tipo de média. Se o número for 0, a função deverá calcular a média aritmética das notas do aluno; se for 1, deverá calcular a média ponderada, com pesos os respectivos pesos: 5, 3 e 2. A média calculada deverá ser retornada pela função."
      ]
    },
    {
      "cell_type": "code",
      "metadata": {
        "id": "LuZ0g90-aV9L",
        "colab_type": "code",
        "colab": {
          "base_uri": "https://localhost:8080/",
          "height": 36
        },
        "outputId": "3e327727-1187-49d1-af82-07ba8b61b7c3"
      },
      "source": [
        "def media_alunos(nota1, nota2, nota3, tipo):\n",
        "    if tipo == 0:\n",
        "      resultado = (nota1 + nota2 + nota3)/3\n",
        "      return resultado\n",
        "    elif tipo == 1:\n",
        "      resultado = ((nota1*5) + (nota2*3) + (nota3*2))/3\n",
        "      return resultado\n",
        "    elif tipo != 1 and tipo != 0:\n",
        "      resultado = \"codigo incorreto\"\n",
        "      return resultado\n",
        "\n",
        "print(media_alunos(8, 5, 6, 0))"
      ],
      "execution_count": 23,
      "outputs": [
        {
          "output_type": "stream",
          "text": [
            "6.333333333333333\n"
          ],
          "name": "stdout"
        }
      ]
    },
    {
      "cell_type": "markdown",
      "metadata": {
        "id": "5mU35MyR_3jk",
        "colab_type": "text"
      },
      "source": [
        "08.\tFaça o método maior_menor(numeros) que receba um vetor de números inteiros como parâmetro, em seguida, determine e imprima na tela o maior e o menor número."
      ]
    },
    {
      "cell_type": "code",
      "metadata": {
        "id": "0-jiQMvxgbuu",
        "colab_type": "code",
        "colab": {
          "base_uri": "https://localhost:8080/",
          "height": 36
        },
        "outputId": "82ac16e2-9a51-48ee-9833-2ef90d866d54"
      },
      "source": [
        "def maior_menor(numeros):\n",
        "  maiorvalor = -9999999999999999\n",
        "  menorvalor = 9999999999999999\n",
        "  n = len(numeros)\n",
        "  for i in range(n):\n",
        "    x = numeros[i]\n",
        "    if(x>maiorvalor):\n",
        "            maiorvalor = x\n",
        "    if(x<menorvalor):\n",
        "            menorvalor = x\n",
        "  return menorvalor, maiorvalor\n",
        "vetor = [3, 5, 4, 2, 2, 5, 3, 2, 5, 9]\n",
        "print(maior_menor(vetor))"
      ],
      "execution_count": 26,
      "outputs": [
        {
          "output_type": "stream",
          "text": [
            "(2, 9)\n"
          ],
          "name": "stdout"
        }
      ]
    },
    {
      "cell_type": "markdown",
      "metadata": {
        "id": "KLa6nNoJ_7os",
        "colab_type": "text"
      },
      "source": [
        "09.\tFoi realizada uma pesquisa sobre algumas características físicas dos habitantes de uma região. Foram coletados os seguintes dados de cada habitante: sexo, cor dos olhos (A — azuis; ou C — castanhos), cor dos cabelos (L — louros; P — pretos; ou C — castanhos) e idade. Implemente os seguintes métodos:\n",
        "a.\tleia_dados(): leia esses dados, armazene e retorne os dados em uma lista;\n",
        "b.\tmedia_idades(dados): calcula e retorne a média de idade das pessoas com olhos castanhos e cabelos pretos;\n",
        "c.\tmaior_idade(dados): determina e retorne a maior idade entre os habitantes;\n",
        "d.\tfrequencia_individuos(dados): calcula e retorna a quantidade de indivíduos do sexo feminino com idade entre 18 e 35 anos (inclusive) e que tenham olhos azuis e cabelos louros.\n"
      ]
    },
    {
      "cell_type": "code",
      "metadata": {
        "id": "oHhePrvSAAAx",
        "colab_type": "code",
        "colab": {}
      },
      "source": [
        "def leia_dados():\n",
        "  # Retorna uma lista com os dados dos habitantes\n",
        "  dados_habitantes = []\n",
        "\n",
        "  opcao = input(\"Deseja Ler Dados? [S] SIM - [N] NÃO \")[0].lower()\n",
        "\n",
        "  while (opcao == \"s\"):\n",
        "\n",
        "    sexo = input(\"\\nSexo: \")[0].upper()\n",
        "\n",
        "    print(\"\\nA - Azuis ou C - Castanhos\")\n",
        "    cor_olhos = input(\"Cor dos Olhos: \")[0].upper()\n",
        "\n",
        "    print(\"\\nL - Louro; P - Preto; C - Castanhos\")\n",
        "    cor_cabelos = input(\"Cor dos Cabelos\")[0].upper()\n",
        "\n",
        "    idade = int(input(\"\\nIdade: \"))\n",
        "\n",
        "    habitante = {\n",
        "        'sexo': sexo,\n",
        "        'olhos': cor_olhos,\n",
        "        'cabelos': cor_cabelos,\n",
        "        'idade': idade\n",
        "    }\n",
        "\n",
        "    dados_habitantes.append(habitante)\n",
        "\n",
        "    opcao = input(\"Deseja Ler Dados? [S] SIM - [N] NÃO \")[0].lower()\n",
        "\n",
        "  return dados_habitantes\n",
        "\n",
        "def media_idades(dados):\n",
        "  # Retorna a média de idade das pessoas com olhos castanhos e cabelos pretos\n",
        "  media = 0.0\n",
        "  soma = 0\n",
        "  contador = 0\n",
        "\n",
        "  for habitante in dados:\n",
        "    if (habitante['olhos'] == 'C') and (habitante['cabelos'] == 'P'):\n",
        "      soma = habitante['idade'] + soma\n",
        "      contador = contador + 1\n",
        "\n",
        "  if contador != 0:\n",
        "    media = soma / contador\n",
        "\n",
        "  return media\n",
        "\n",
        "def maior_idade(dados):\n",
        "  # Retorna a maior idade entre os habitantes\n",
        "  maior_idade = 0\n",
        "\n",
        "  for habitante in dados:\n",
        "    if habitante['idade'] > maior_idade:\n",
        "      maior_idade = habitante['idade']\n",
        "\n",
        "  return maior_idade\n",
        "\n",
        "def frequencia_individuos(dados):\n",
        "  # Retornar a quantidade de individuos do sexo feminino, com idade entre 18 e 35 anos (inclusive) e que tenham olhos azuis e cabelos loiros\n",
        "  frequencia = 0\n",
        "\n",
        "  for habitante in dados:\n",
        "    if (habitante['sexo'] == 'F') and (habitante['idade'] >= 18 and habitante['idade'] <= 35) and (habitante['olhos'] == 'A') and (habitante['cabelos'] == 'L'):\n",
        "      frequencia = frequencia + 1\n",
        "  \n",
        "  return frequencia\n",
        "\n",
        "dados = leia_dados()\n",
        "media_idades(dados)\n",
        "maior_idade(dados)\n",
        "frequencia_individuos(dados)"
      ],
      "execution_count": 0,
      "outputs": []
    },
    {
      "cell_type": "markdown",
      "metadata": {
        "id": "rQv-dL_LAM_e",
        "colab_type": "text"
      },
      "source": [
        "10.\tImplemente o método fatorial(n) que receba como parâmetro um número inteiro e retorne o fatorial deste número"
      ]
    },
    {
      "cell_type": "code",
      "metadata": {
        "id": "uFI2fC51iPzP",
        "colab_type": "code",
        "colab": {
          "base_uri": "https://localhost:8080/",
          "height": 36
        },
        "outputId": "2a3b9a46-632b-4d97-9340-4be43365d657"
      },
      "source": [
        "def fatorial(n):\n",
        "  total = 1\n",
        "  for i in range(0,n):\n",
        "    total = total * (i+1)\n",
        "  return total\n",
        "print(fatorial(4))\n"
      ],
      "execution_count": 29,
      "outputs": [
        {
          "output_type": "stream",
          "text": [
            "24\n"
          ],
          "name": "stdout"
        }
      ]
    },
    {
      "cell_type": "markdown",
      "metadata": {
        "id": "BF_RaMF-AIRa",
        "colab_type": "text"
      },
      "source": [
        "11.\tFaça o método calcula_fatorial(numeros) que receba uma lista de números inteiros como parâmetro. Ao final dessa função, deverá ter sido gerado um vetor resultados_fatorial contendo o fatorial de cada elemento da lista de números passada como parâmetro."
      ]
    },
    {
      "cell_type": "code",
      "metadata": {
        "id": "vy5vuQ4HkFkm",
        "colab_type": "code",
        "colab": {
          "base_uri": "https://localhost:8080/",
          "height": 36
        },
        "outputId": "ff87c24e-814f-4c66-c2df-70ec4db89f9c"
      },
      "source": [
        "def calcula_fatorial(numeros):\n",
        "  n = len(numeros)\n",
        "  resultado = []\n",
        "  for i in range(n):\n",
        "    numeros[i]\n",
        "    for i in range(0,numeros[i]):\n",
        "      total = total*(1/)\n",
        "\n",
        "      resultado.append(i) = total\n",
        "vetor = [3, 5, 4, 2, 2, 5, 3, 2, 5, 9]\n",
        "print(calcula_fatorial(vetor))"
      ],
      "execution_count": 34,
      "outputs": [
        {
          "output_type": "stream",
          "text": [
            "[6, 120]\n"
          ],
          "name": "stdout"
        }
      ]
    },
    {
      "cell_type": "markdown",
      "metadata": {
        "id": "geXiQ8N5AT9Z",
        "colab_type": "text"
      },
      "source": [
        "12.\tCrie o método identifica_numeros_pares(numeros) que recebe um vetor de números inteiros como parâmetro, calcule e mostre na tela os números pares e suas respectivas posições."
      ]
    },
    {
      "cell_type": "code",
      "metadata": {
        "id": "sVnUuY5-oPj4",
        "colab_type": "code",
        "colab": {
          "base_uri": "https://localhost:8080/",
          "height": 36
        },
        "outputId": "293a0bec-b7b8-4119-8e50-754bf12c9f43"
      },
      "source": [
        "def identifica_numeros_pares(numeros):\n",
        "  n = len(numeros)\n",
        "  pares = []\n",
        "  posicao = []\n",
        "  for i in range(n):\n",
        "    if (numeros[i]%2)==0:\n",
        "      pares.append(numeros[i])\n",
        "      posicao.append(i+1)\n",
        "  return pares, posicao\n",
        "vetor = [2, 4]\n",
        "print(identifica_numeros_pares(vetor))"
      ],
      "execution_count": 40,
      "outputs": [
        {
          "output_type": "stream",
          "text": [
            "([2, 4], [1, 2])\n"
          ],
          "name": "stdout"
        }
      ]
    },
    {
      "cell_type": "markdown",
      "metadata": {
        "id": "1045vuw5AYe-",
        "colab_type": "text"
      },
      "source": [
        "13.\tCrie o método intercala(a, b) que receba dois vetores númericos como parâmetro e retorne o vetor resultante da intercalação deles, por exemplo:\n",
        "a.\tVetor A = [3, 5, 4, 2, 2, 5, 3, 2, 5, 9]\n",
        "b.\tVetor B = [7, 15, 20, 0, 18, 4, 55, 23, 8, 6]\n",
        "c.\tVetor Intercalado = [3, 7, 5, 15, 4, 20, 2, 0, 2, 18, 5, 4, 3, 55, 2, 23, 5, 8, 9, 6]\n"
      ]
    },
    {
      "cell_type": "code",
      "metadata": {
        "id": "u_Ct2y8BAbkU",
        "colab_type": "code",
        "colab": {}
      },
      "source": [
        "def intercala_vetor(a, b):\n",
        "  vetor_intercalado = []\n",
        "  n = len(a)\n",
        "\n",
        "  for i in range(n):\n",
        "    vetor_intercalado.append(a[i])\n",
        "    vetor_intercalado.append(b[i])\n",
        "\n",
        "  return vetor_intercalado\n",
        "\n",
        "def intercala_lista(a, b):\n",
        "  lista_intercalada = []\n",
        "\n",
        "  while (len(a) > 0) or (len(b) > 0):\n",
        "    if len(a) > 0:\n",
        "      lista_intercalada.append(a.pop(0))\n",
        "    \n",
        "    if len(b) > 0:\n",
        "      lista_intercalada.append(b.pop(0))\n",
        "\n",
        "  return lista_intercalada\n",
        "\n",
        "vetor_a = [3, 5, 4, 2, 2, 5, 3, 2, 5, 9]\n",
        "vetor_b = [7, 15, 20, 0, 18, 4, 55, 23, 8, 6]\n",
        "\n",
        "print(vetor_a)\n",
        "print(vetor_b)\n",
        "intercalado = intercala_vetor(vetor_a, vetor_b)\n",
        "print(intercalado)"
      ],
      "execution_count": 0,
      "outputs": []
    },
    {
      "cell_type": "markdown",
      "metadata": {
        "id": "UTx94TMoAfnl",
        "colab_type": "text"
      },
      "source": [
        "14.\tImplemente o método uniao(a, b) que receba dois vetores numéricos como parâmetro, calcule e retorne um vetor numérico com a união entre a e b (A ∪ B), ou seja, que possua todos os elementos dos vetores A e B, sem repetições."
      ]
    },
    {
      "cell_type": "code",
      "metadata": {
        "id": "keMwxpOIAi6u",
        "colab_type": "code",
        "colab": {}
      },
      "source": [
        "def uniao(a, b):\n",
        "  return a + b\n",
        "\n",
        "def uniao_ordenado_repetida(a, b):\n",
        "  return sorted(a + b)\n",
        "\n",
        "def uniao_sem_repeticao(a, b):\n",
        "  return list(set(a) | set(b))"
      ],
      "execution_count": 0,
      "outputs": []
    },
    {
      "cell_type": "markdown",
      "metadata": {
        "id": "dTrYqlu3Al7O",
        "colab_type": "text"
      },
      "source": [
        "15.\tImplemente o método diferenca(a, b) que receba dois vetores numéricos como parâmetro, calcule e retorne um vetor numérico com a diferença entre a e b (A - B), ou seja, todos os elementos do vetores A que não existam no vetor B, sem repetições."
      ]
    },
    {
      "cell_type": "code",
      "metadata": {
        "id": "oXQveVFgApct",
        "colab_type": "code",
        "colab": {
          "base_uri": "https://localhost:8080/",
          "height": 36
        },
        "outputId": "469f746a-c0c1-4e4b-e113-5181a2776b7e"
      },
      "source": [
        "def diferenca(a, b):\n",
        "  return list(set(a) - set(b))\n",
        "vetor_a = [3, 5, 4, 2, 2, 5, 3, 2, 5, 9]\n",
        "vetor_b = [7, 15, 20, 0, 18, 4, 55, 23, 8, 6]\n",
        "print(diferenca(vetor_a, vetor_b))"
      ],
      "execution_count": 133,
      "outputs": [
        {
          "output_type": "stream",
          "text": [
            "[9, 2, 3, 5]\n"
          ],
          "name": "stdout"
        }
      ]
    },
    {
      "cell_type": "markdown",
      "metadata": {
        "id": "mlKFLnDfA6mj",
        "colab_type": "text"
      },
      "source": [
        "16.\tImplemente o método intersecao(a, b) que receba dois vetores numéricos como parâmetro, calcule e retorne um vetor numérico com a intersecção entre a e b (A ∩ B), ou seja, contenha apenas os elementos que aparecem nos dois vetores, sem repetições."
      ]
    },
    {
      "cell_type": "code",
      "metadata": {
        "id": "TCrCwRmIA_nx",
        "colab_type": "code",
        "colab": {
          "base_uri": "https://localhost:8080/",
          "height": 36
        },
        "outputId": "fa6d7726-4b26-4c8b-c7e2-b44615ed1330"
      },
      "source": [
        "def intersecao(a, b):\n",
        "  return list(set(a) & set(b))\n",
        "vetor_a = [3, 5, 4, 2, 2, 5, 3, 2, 5, 9]\n",
        "vetor_b = [7, 15, 20, 0, 18, 4, 55, 23, 8, 6]\n",
        "print(intersecao(vetor_a, vetor_b))"
      ],
      "execution_count": 135,
      "outputs": [
        {
          "output_type": "stream",
          "text": [
            "[4]\n"
          ],
          "name": "stdout"
        }
      ]
    },
    {
      "cell_type": "markdown",
      "metadata": {
        "id": "bLNwId6OBJP5",
        "colab_type": "text"
      },
      "source": [
        "17.\tImplemente o método par(n) que receba como parâmetro um número e retorne verdadeiro (true) se ele for par ou falso (false) se ele for ímpar."
      ]
    },
    {
      "cell_type": "code",
      "metadata": {
        "id": "nE2_YxlkoWV8",
        "colab_type": "code",
        "colab": {
          "base_uri": "https://localhost:8080/",
          "height": 36
        },
        "outputId": "cae5b610-56ee-477d-a4d8-da957b1b3f4b"
      },
      "source": [
        "def par(n):\n",
        "  if (n%2)==0:\n",
        "    pares = True\n",
        "  else:\n",
        "    pares = False\n",
        "  return pares\n",
        "print(par(3))\n"
      ],
      "execution_count": 44,
      "outputs": [
        {
          "output_type": "stream",
          "text": [
            "False\n"
          ],
          "name": "stdout"
        }
      ]
    },
    {
      "cell_type": "markdown",
      "metadata": {
        "id": "DZ4WGIixBMv1",
        "colab_type": "text"
      },
      "source": [
        "18.\tImplemente o método max(numeros) que receba como parâmetro uma lista de números e retorne o maior número encontrado na lista."
      ]
    },
    {
      "cell_type": "code",
      "metadata": {
        "id": "IUtE0FRppNop",
        "colab_type": "code",
        "colab": {
          "base_uri": "https://localhost:8080/",
          "height": 36
        },
        "outputId": "6ea98ed6-01e9-4447-95b3-03291a113960"
      },
      "source": [
        "def max(numeros):\n",
        "  maiorvalor = -9999999999999999\n",
        "  n = len(numeros)\n",
        "  for i in range(n):\n",
        "    x = numeros[i]\n",
        "    if(x>maiorvalor):\n",
        "            maiorvalor = x\n",
        "  return maiorvalor\n",
        "vetor = [3, 5, 4, 2, 2, 5, 3, 2, 5, 9]\n",
        "print(max(vetor))"
      ],
      "execution_count": 45,
      "outputs": [
        {
          "output_type": "stream",
          "text": [
            "9\n"
          ],
          "name": "stdout"
        }
      ]
    },
    {
      "cell_type": "markdown",
      "metadata": {
        "id": "wATwWgW7BQit",
        "colab_type": "text"
      },
      "source": [
        "19.\tImplemente o método min(numeros) que receba como parâmetro uma lista de números e retorne o menor número encontrado na lista."
      ]
    },
    {
      "cell_type": "code",
      "metadata": {
        "id": "N5-Eo0jSpa5g",
        "colab_type": "code",
        "colab": {
          "base_uri": "https://localhost:8080/",
          "height": 36
        },
        "outputId": "7e962341-4543-4788-aec4-63122081bfa7"
      },
      "source": [
        "def min(numeros):\n",
        "  menorvalor = 9999999999999999\n",
        "  n = len(numeros)\n",
        "  for i in range(n):\n",
        "    x = numeros[i]\n",
        "    if(x<menorvalor):\n",
        "            menorvalor = x\n",
        "  return menorvalor\n",
        "vetor = [3, 5, 4, 1, 2, 5, 3, 2, 5, 9]\n",
        "print(min(vetor))            "
      ],
      "execution_count": 47,
      "outputs": [
        {
          "output_type": "stream",
          "text": [
            "1\n"
          ],
          "name": "stdout"
        }
      ]
    },
    {
      "cell_type": "markdown",
      "metadata": {
        "id": "_TTW2ro0BUc5",
        "colab_type": "text"
      },
      "source": [
        "20.\tEscreva o método multiplo(a, b) que receba dois números inteiros como parâmetro e retorne verdadeiro (true) se o primeiro for um múltiplo do segundo. Por exemplo:\n",
        "a.\tSe o usuário digitar 15 e 3, o primeiro número será múltiplo do segundo;\n",
        "b.\tSe o usuário digitar 2 e 4, o primeiro número não será múltiplo do segundo. \n",
        "Dica: use o operador módulo para obter o resto da divisão.\n"
      ]
    },
    {
      "cell_type": "code",
      "metadata": {
        "id": "qQV8mesEBZXT",
        "colab_type": "code",
        "colab": {
          "base_uri": "https://localhost:8080/",
          "height": 36
        },
        "outputId": "eadd06aa-441e-4834-84bd-203e4367dd4a"
      },
      "source": [
        "def multiplo(a, b):\n",
        "  return True if (a % b == 0) else False\n",
        "print(multiplo(2,4))"
      ],
      "execution_count": 136,
      "outputs": [
        {
          "output_type": "stream",
          "text": [
            "False\n"
          ],
          "name": "stdout"
        }
      ]
    },
    {
      "cell_type": "markdown",
      "metadata": {
        "id": "JcTIuecjBhOJ",
        "colab_type": "text"
      },
      "source": [
        "21.\tImplemente o método imprime_vetor(vetor, codigo) que receba como parâmetro um vetor de itens que será impresso e um código indicando a ordem da impressão. Se o código for igual a 0, o vetor deverá ser impresso de maneira crescente, caso contrário, se o código for igual a 1 o vetor deverá ser impresso de maneira decrescente."
      ]
    },
    {
      "cell_type": "code",
      "metadata": {
        "id": "m1u9useWqBPQ",
        "colab_type": "code",
        "colab": {
          "base_uri": "https://localhost:8080/",
          "height": 111
        },
        "outputId": "1eed8bf1-0878-4415-fbd3-3ea0b9597d0f"
      },
      "source": [
        "def imprime_vetor(vetor, codigo):\n",
        "  imprimir = []\n",
        "  if codigo == 0:\n",
        "    imprimir = sorted(vetor)\n",
        "  if codigo == 1:\n",
        "    imprimir = sorted(vetor, reverse=True)\n",
        "  return imprimir\n",
        "vetor1 = [3, 5, 4, 1, 2, 5, 3, 2, 5, 9]\n",
        "cod = int(input(\"digite a ordem\\n(0) - Crescente\\n(1) - Decrescente\\n\"))\n",
        "print(imprime_vetor(vetor1, cod))"
      ],
      "execution_count": 57,
      "outputs": [
        {
          "output_type": "stream",
          "text": [
            "digite a ordem\n",
            "(0) - Crescente\n",
            "(1) - Decrescente\n",
            "1\n",
            "[9, 5, 5, 5, 4, 3, 3, 2, 2, 1]\n"
          ],
          "name": "stdout"
        }
      ]
    },
    {
      "cell_type": "markdown",
      "metadata": {
        "id": "OoELzb0UBkim",
        "colab_type": "text"
      },
      "source": [
        "22.\tImplemente o método primo(n) que receba um número como parâmetro e retorna verdadeiro (true) se ele for primo, caso contrário, falso (false). \n",
        "Um número é primo quando é divisível apenas por 1 e por ele mesmo."
      ]
    },
    {
      "cell_type": "code",
      "metadata": {
        "id": "YqY_bCx0si9h",
        "colab_type": "code",
        "colab": {
          "base_uri": "https://localhost:8080/",
          "height": 36
        },
        "outputId": "a66479b2-b4ff-4100-b5c2-c8f86e4ed85f"
      },
      "source": [
        "def primo(numero):\n",
        "  if numero != 0 & numero != 1:\n",
        "    if numero > 3:\n",
        "      for i in range(2, numero):\n",
        "        if numero % i == 0:\n",
        "          return False\n",
        "    return True\n",
        "  return False\n",
        "print(primo(7))"
      ],
      "execution_count": 65,
      "outputs": [
        {
          "output_type": "stream",
          "text": [
            "True\n"
          ],
          "name": "stdout"
        }
      ]
    },
    {
      "cell_type": "markdown",
      "metadata": {
        "id": "uXVrV7zFBruY",
        "colab_type": "text"
      },
      "source": [
        "23.\tCrie o método media(numeros) que receba uma lista de números como parâmetro e retorno a média artimética."
      ]
    },
    {
      "cell_type": "code",
      "metadata": {
        "id": "xoJAc1BQu5yo",
        "colab_type": "code",
        "colab": {
          "base_uri": "https://localhost:8080/",
          "height": 36
        },
        "outputId": "592496ef-9ee1-44cd-a5ee-4cb0d92c7a3d"
      },
      "source": [
        "def media(numeros):\n",
        "  soma = 0\n",
        "  n = len(numeros)\n",
        "  for i in range(n):\n",
        "    soma = soma + numeros[i]\n",
        "  return(soma/n)\n",
        "vetor1 = [3, 5, 4, 1, 2, 5, 3, 2, 5, 9]\n",
        "print(media(vetor1))"
      ],
      "execution_count": 66,
      "outputs": [
        {
          "output_type": "stream",
          "text": [
            "3.9\n"
          ],
          "name": "stdout"
        }
      ]
    },
    {
      "cell_type": "markdown",
      "metadata": {
        "id": "ZDlaIv4fBvGl",
        "colab_type": "text"
      },
      "source": [
        "24.\tFaça o método analisa_numeros(numeros) que receba uma lista de números como parâmetro, calcule e mostre:\n",
        "a.\tA Soma dos números; \n",
        "b.\tA quantidade de números; len\n",
        "c.\tA média dos números; \n",
        "d.\tO maior número; \n",
        "e.\tO menor número; \n",
        "f.\tA média dos números pares; \n",
        "g.\tA porcentagem dos números ímpares entre todos os números da lista.\n",
        "Você pode utilizar métodos criados nos exercícios anteriores."
      ]
    },
    {
      "cell_type": "code",
      "metadata": {
        "id": "c9TxM5BcwBEs",
        "colab_type": "code",
        "colab": {
          "base_uri": "https://localhost:8080/",
          "height": 36
        },
        "outputId": "2c0a8fe8-86b6-4c4c-febf-15f560cd8f21"
      },
      "source": [
        "def analisa_numeros(numeros):\n",
        "  soma = 0\n",
        "  maior = -9999999999999999\n",
        "  menor = 9999999999999999\n",
        "  par = 0\n",
        "  impar = 0\n",
        "  cont_par = 0\n",
        "  n = len(numeros)\n",
        "  for i in range(n):\n",
        "    soma = soma + numeros[i]\n",
        "    x = numeros[i]\n",
        "    if(x > maior):\n",
        "      maior = x\n",
        "    elif(x < menor):\n",
        "      menor = x\n",
        "    media = soma/n\n",
        "  for i in range(n):\n",
        "    if (numeros[i]%2)==0:\n",
        "      par = par + numeros[i]\n",
        "      cont_par = cont_par+1\n",
        "    else:\n",
        "      impar = impar+1\n",
        "  impar = (impar/n)*100\n",
        "  par = par/cont_par\n",
        "  return (soma, n, media, maior, menor, par, impar)\n",
        "vetor1 = [3, 5, 4, 1, 2, 5, 3, 2, 5, 9]\n",
        "print(analisa_numeros(vetor1))"
      ],
      "execution_count": 109,
      "outputs": [
        {
          "output_type": "stream",
          "text": [
            "(39, 10, 3.9, 9, 1, 2.6666666666666665, 70.0)\n"
          ],
          "name": "stdout"
        }
      ]
    }
  ]
}